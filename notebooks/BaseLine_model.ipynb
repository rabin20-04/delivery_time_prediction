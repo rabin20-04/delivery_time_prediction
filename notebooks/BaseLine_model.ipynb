{
 "cells": [
  {
   "cell_type": "code",
   "execution_count": 1,
   "id": "848803c3",
   "metadata": {},
   "outputs": [],
   "source": [
    "# imports\n",
    "\n",
    "import numpy as np\n",
    "import pandas as pd\n",
    "import matplotlib.pyplot as plt\n",
    "import seaborn as sns\n",
    "import missingno as msno\n",
    "from matplotlib.gridspec import GridSpec\n",
    "import seaborn as sns\n",
    "\n",
    "# import data_clean_utils\n",
    "from scipy.stats import chi2_contingency, f_oneway, jarque_bera, probplot\n",
    "import plotly.express as px\n",
    "import timeit\n",
    "\n",
    "from sklearn.model_selection import train_test_split\n",
    "from sklearn.linear_model import LogisticRegression\n",
    "from sklearn.metrics import mean_absolute_error, mean_squared_error, r2_score\n",
    "from sklearn.metrics import accuracy_score\n",
    "from sklearn.neighbors import KNeighborsClassifier\n",
    "from sklearn.ensemble import RandomForestClassifier, GradientBoostingClassifier\n",
    "from sklearn.ensemble import ExtraTreesClassifier\n",
    "from sklearn.feature_selection import SelectFromModel\n",
    "from sklearn.model_selection import GridSearchCV\n",
    "from sklearn.svm import LinearSVC\n",
    "from sklearn.compose import ColumnTransformer\n",
    "from sklearn.impute import SimpleImputer\n",
    "from sklearn.preprocessing import OneHotEncoder, OrdinalEncoder\n",
    "from sklearn.preprocessing import MinMaxScaler\n",
    "from sklearn.pipeline import Pipeline, make_pipeline\n",
    "from sklearn.feature_selection import SelectKBest, chi2\n",
    "from sklearn.tree import DecisionTreeClassifier\n",
    "import warnings\n",
    "from sklearn.exceptions import DataConversionWarning\n",
    "\n",
    "\n",
    "warnings.filterwarnings(\"default\", category=DataConversionWarning)\n",
    "\n",
    "# import sys\n",
    "# import importlib\n",
    "# sys.path.append(\"../files_\")\n",
    "# import data_clean_script\n",
    "\n",
    "# importlib.reload(data_clean_script)     # reload"
   ]
  },
  {
   "cell_type": "code",
   "execution_count": 2,
   "id": "2b7c652e",
   "metadata": {},
   "outputs": [],
   "source": [
    "from sklearn import set_config\n",
    "\n",
    "set_config(transform_output=\"pandas\")"
   ]
  },
  {
   "cell_type": "markdown",
   "id": "aa9f369a",
   "metadata": {},
   "source": [
    "# Import\n"
   ]
  },
  {
   "cell_type": "code",
   "execution_count": 3,
   "id": "a763a43a",
   "metadata": {},
   "outputs": [],
   "source": [
    "original_df = pd.read_csv(\"../files_/train.csv\")"
   ]
  },
  {
   "cell_type": "code",
   "execution_count": 4,
   "id": "fee251e4",
   "metadata": {},
   "outputs": [
    {
     "data": {
      "text/plain": [
       "<module 'data_clean_script' from '/Users/rabinpoudel/Documents/Code_code_Code/Anaconda/delivery_time_pred/notebooks/../files_/data_clean_script.py'>"
      ]
     },
     "execution_count": 4,
     "metadata": {},
     "output_type": "execute_result"
    }
   ],
   "source": [
    "import sys\n",
    "import importlib\n",
    "\n",
    "sys.path.append(\"../files_\")\n",
    "import data_clean_script\n",
    "\n",
    "importlib.reload(data_clean_script)"
   ]
  },
  {
   "cell_type": "code",
   "execution_count": 5,
   "id": "09cbc293",
   "metadata": {},
   "outputs": [],
   "source": [
    "df = data_clean_script.perform_data_cleaning(original_df)"
   ]
  },
  {
   "cell_type": "code",
   "execution_count": 6,
   "id": "c1928f50",
   "metadata": {},
   "outputs": [
    {
     "data": {
      "text/plain": [
       "((45593, 20), (45502, 19))"
      ]
     },
     "execution_count": 6,
     "metadata": {},
     "output_type": "execute_result"
    }
   ],
   "source": [
    "original_df.shape, df.shape"
   ]
  },
  {
   "cell_type": "code",
   "execution_count": 7,
   "id": "ff47c1dc",
   "metadata": {},
   "outputs": [
    {
     "data": {
      "text/html": [
       "<div>\n",
       "<style scoped>\n",
       "    .dataframe tbody tr th:only-of-type {\n",
       "        vertical-align: middle;\n",
       "    }\n",
       "\n",
       "    .dataframe tbody tr th {\n",
       "        vertical-align: top;\n",
       "    }\n",
       "\n",
       "    .dataframe thead th {\n",
       "        text-align: right;\n",
       "    }\n",
       "</style>\n",
       "<table border=\"1\" class=\"dataframe\">\n",
       "  <thead>\n",
       "    <tr style=\"text-align: right;\">\n",
       "      <th></th>\n",
       "      <th>age</th>\n",
       "      <th>ratings</th>\n",
       "      <th>weather</th>\n",
       "      <th>traffic</th>\n",
       "      <th>vehicle_condition</th>\n",
       "      <th>type_of_order</th>\n",
       "      <th>type_of_vehicle</th>\n",
       "      <th>multiple_deliveries</th>\n",
       "      <th>festival</th>\n",
       "      <th>city_type</th>\n",
       "      <th>time_taken</th>\n",
       "      <th>city_name</th>\n",
       "      <th>order_month</th>\n",
       "      <th>order_day_of_week</th>\n",
       "      <th>is_weekend</th>\n",
       "      <th>pickup_time_minutes</th>\n",
       "      <th>order_time_of_day</th>\n",
       "      <th>distance</th>\n",
       "      <th>distance_type</th>\n",
       "    </tr>\n",
       "  </thead>\n",
       "  <tbody>\n",
       "    <tr>\n",
       "      <th>30356</th>\n",
       "      <td>27.0</td>\n",
       "      <td>4.8</td>\n",
       "      <td>windy</td>\n",
       "      <td>jam</td>\n",
       "      <td>0</td>\n",
       "      <td>snack</td>\n",
       "      <td>motorcycle</td>\n",
       "      <td>2.0</td>\n",
       "      <td>no</td>\n",
       "      <td>metropolitian</td>\n",
       "      <td>38</td>\n",
       "      <td>VAD</td>\n",
       "      <td>3</td>\n",
       "      <td>tuesday</td>\n",
       "      <td>0</td>\n",
       "      <td>10.0</td>\n",
       "      <td>evening</td>\n",
       "      <td>16.659917</td>\n",
       "      <td>very_long</td>\n",
       "    </tr>\n",
       "    <tr>\n",
       "      <th>21070</th>\n",
       "      <td>39.0</td>\n",
       "      <td>4.8</td>\n",
       "      <td>sunny</td>\n",
       "      <td>low</td>\n",
       "      <td>1</td>\n",
       "      <td>drinks</td>\n",
       "      <td>motorcycle</td>\n",
       "      <td>1.0</td>\n",
       "      <td>no</td>\n",
       "      <td>NaN</td>\n",
       "      <td>10</td>\n",
       "      <td>HYD</td>\n",
       "      <td>3</td>\n",
       "      <td>tuesday</td>\n",
       "      <td>0</td>\n",
       "      <td>10.0</td>\n",
       "      <td>morning</td>\n",
       "      <td>3.073772</td>\n",
       "      <td>short</td>\n",
       "    </tr>\n",
       "    <tr>\n",
       "      <th>30629</th>\n",
       "      <td>34.0</td>\n",
       "      <td>5.0</td>\n",
       "      <td>sunny</td>\n",
       "      <td>high</td>\n",
       "      <td>0</td>\n",
       "      <td>meal</td>\n",
       "      <td>motorcycle</td>\n",
       "      <td>1.0</td>\n",
       "      <td>no</td>\n",
       "      <td>metropolitian</td>\n",
       "      <td>29</td>\n",
       "      <td>AURG</td>\n",
       "      <td>2</td>\n",
       "      <td>friday</td>\n",
       "      <td>0</td>\n",
       "      <td>5.0</td>\n",
       "      <td>afternoon</td>\n",
       "      <td>6.105333</td>\n",
       "      <td>medium</td>\n",
       "    </tr>\n",
       "    <tr>\n",
       "      <th>36938</th>\n",
       "      <td>28.0</td>\n",
       "      <td>4.6</td>\n",
       "      <td>sandstorms</td>\n",
       "      <td>low</td>\n",
       "      <td>2</td>\n",
       "      <td>snack</td>\n",
       "      <td>scooter</td>\n",
       "      <td>NaN</td>\n",
       "      <td>no</td>\n",
       "      <td>urban</td>\n",
       "      <td>13</td>\n",
       "      <td>RANCHI</td>\n",
       "      <td>3</td>\n",
       "      <td>monday</td>\n",
       "      <td>0</td>\n",
       "      <td>15.0</td>\n",
       "      <td>morning</td>\n",
       "      <td>1.509480</td>\n",
       "      <td>short</td>\n",
       "    </tr>\n",
       "    <tr>\n",
       "      <th>19239</th>\n",
       "      <td>25.0</td>\n",
       "      <td>4.5</td>\n",
       "      <td>sandstorms</td>\n",
       "      <td>low</td>\n",
       "      <td>2</td>\n",
       "      <td>meal</td>\n",
       "      <td>scooter</td>\n",
       "      <td>1.0</td>\n",
       "      <td>no</td>\n",
       "      <td>metropolitian</td>\n",
       "      <td>12</td>\n",
       "      <td>SUR</td>\n",
       "      <td>3</td>\n",
       "      <td>saturday</td>\n",
       "      <td>1</td>\n",
       "      <td>15.0</td>\n",
       "      <td>morning</td>\n",
       "      <td>3.040650</td>\n",
       "      <td>short</td>\n",
       "    </tr>\n",
       "    <tr>\n",
       "      <th>32598</th>\n",
       "      <td>38.0</td>\n",
       "      <td>4.7</td>\n",
       "      <td>windy</td>\n",
       "      <td>jam</td>\n",
       "      <td>1</td>\n",
       "      <td>drinks</td>\n",
       "      <td>scooter</td>\n",
       "      <td>1.0</td>\n",
       "      <td>no</td>\n",
       "      <td>metropolitian</td>\n",
       "      <td>25</td>\n",
       "      <td>PUNE</td>\n",
       "      <td>3</td>\n",
       "      <td>wednesday</td>\n",
       "      <td>0</td>\n",
       "      <td>15.0</td>\n",
       "      <td>night</td>\n",
       "      <td>19.916195</td>\n",
       "      <td>very_long</td>\n",
       "    </tr>\n",
       "    <tr>\n",
       "      <th>20311</th>\n",
       "      <td>38.0</td>\n",
       "      <td>4.7</td>\n",
       "      <td>stormy</td>\n",
       "      <td>high</td>\n",
       "      <td>2</td>\n",
       "      <td>buffet</td>\n",
       "      <td>scooter</td>\n",
       "      <td>1.0</td>\n",
       "      <td>no</td>\n",
       "      <td>metropolitian</td>\n",
       "      <td>27</td>\n",
       "      <td>CHEN</td>\n",
       "      <td>3</td>\n",
       "      <td>friday</td>\n",
       "      <td>0</td>\n",
       "      <td>5.0</td>\n",
       "      <td>morning</td>\n",
       "      <td>6.209976</td>\n",
       "      <td>medium</td>\n",
       "    </tr>\n",
       "    <tr>\n",
       "      <th>36472</th>\n",
       "      <td>23.0</td>\n",
       "      <td>4.8</td>\n",
       "      <td>windy</td>\n",
       "      <td>medium</td>\n",
       "      <td>0</td>\n",
       "      <td>buffet</td>\n",
       "      <td>motorcycle</td>\n",
       "      <td>1.0</td>\n",
       "      <td>no</td>\n",
       "      <td>metropolitian</td>\n",
       "      <td>33</td>\n",
       "      <td>BHP</td>\n",
       "      <td>2</td>\n",
       "      <td>saturday</td>\n",
       "      <td>1</td>\n",
       "      <td>5.0</td>\n",
       "      <td>evening</td>\n",
       "      <td>16.608067</td>\n",
       "      <td>very_long</td>\n",
       "    </tr>\n",
       "    <tr>\n",
       "      <th>34708</th>\n",
       "      <td>26.0</td>\n",
       "      <td>4.3</td>\n",
       "      <td>cloudy</td>\n",
       "      <td>jam</td>\n",
       "      <td>1</td>\n",
       "      <td>buffet</td>\n",
       "      <td>motorcycle</td>\n",
       "      <td>2.0</td>\n",
       "      <td>no</td>\n",
       "      <td>metropolitian</td>\n",
       "      <td>41</td>\n",
       "      <td>MUM</td>\n",
       "      <td>3</td>\n",
       "      <td>wednesday</td>\n",
       "      <td>0</td>\n",
       "      <td>10.0</td>\n",
       "      <td>night</td>\n",
       "      <td>19.890514</td>\n",
       "      <td>very_long</td>\n",
       "    </tr>\n",
       "    <tr>\n",
       "      <th>2902</th>\n",
       "      <td>32.0</td>\n",
       "      <td>4.5</td>\n",
       "      <td>sunny</td>\n",
       "      <td>jam</td>\n",
       "      <td>0</td>\n",
       "      <td>buffet</td>\n",
       "      <td>motorcycle</td>\n",
       "      <td>1.0</td>\n",
       "      <td>no</td>\n",
       "      <td>metropolitian</td>\n",
       "      <td>20</td>\n",
       "      <td>AURG</td>\n",
       "      <td>2</td>\n",
       "      <td>thursday</td>\n",
       "      <td>0</td>\n",
       "      <td>10.0</td>\n",
       "      <td>night</td>\n",
       "      <td>7.631464</td>\n",
       "      <td>medium</td>\n",
       "    </tr>\n",
       "  </tbody>\n",
       "</table>\n",
       "</div>"
      ],
      "text/plain": [
       "        age  ratings     weather traffic  vehicle_condition type_of_order  \\\n",
       "30356  27.0      4.8       windy     jam                  0         snack   \n",
       "21070  39.0      4.8       sunny     low                  1        drinks   \n",
       "30629  34.0      5.0       sunny    high                  0          meal   \n",
       "36938  28.0      4.6  sandstorms     low                  2         snack   \n",
       "19239  25.0      4.5  sandstorms     low                  2          meal   \n",
       "32598  38.0      4.7       windy     jam                  1        drinks   \n",
       "20311  38.0      4.7      stormy    high                  2        buffet   \n",
       "36472  23.0      4.8       windy  medium                  0        buffet   \n",
       "34708  26.0      4.3      cloudy     jam                  1        buffet   \n",
       "2902   32.0      4.5       sunny     jam                  0        buffet   \n",
       "\n",
       "      type_of_vehicle  multiple_deliveries festival      city_type  \\\n",
       "30356      motorcycle                  2.0       no  metropolitian   \n",
       "21070      motorcycle                  1.0       no            NaN   \n",
       "30629      motorcycle                  1.0       no  metropolitian   \n",
       "36938         scooter                  NaN       no          urban   \n",
       "19239         scooter                  1.0       no  metropolitian   \n",
       "32598         scooter                  1.0       no  metropolitian   \n",
       "20311         scooter                  1.0       no  metropolitian   \n",
       "36472      motorcycle                  1.0       no  metropolitian   \n",
       "34708      motorcycle                  2.0       no  metropolitian   \n",
       "2902       motorcycle                  1.0       no  metropolitian   \n",
       "\n",
       "       time_taken city_name  order_month order_day_of_week  is_weekend  \\\n",
       "30356          38       VAD            3           tuesday           0   \n",
       "21070          10       HYD            3           tuesday           0   \n",
       "30629          29      AURG            2            friday           0   \n",
       "36938          13    RANCHI            3            monday           0   \n",
       "19239          12       SUR            3          saturday           1   \n",
       "32598          25      PUNE            3         wednesday           0   \n",
       "20311          27      CHEN            3            friday           0   \n",
       "36472          33       BHP            2          saturday           1   \n",
       "34708          41       MUM            3         wednesday           0   \n",
       "2902           20      AURG            2          thursday           0   \n",
       "\n",
       "       pickup_time_minutes order_time_of_day   distance distance_type  \n",
       "30356                 10.0           evening  16.659917     very_long  \n",
       "21070                 10.0           morning   3.073772         short  \n",
       "30629                  5.0         afternoon   6.105333        medium  \n",
       "36938                 15.0           morning   1.509480         short  \n",
       "19239                 15.0           morning   3.040650         short  \n",
       "32598                 15.0             night  19.916195     very_long  \n",
       "20311                  5.0           morning   6.209976        medium  \n",
       "36472                  5.0           evening  16.608067     very_long  \n",
       "34708                 10.0             night  19.890514     very_long  \n",
       "2902                  10.0             night   7.631464        medium  "
      ]
     },
     "execution_count": 7,
     "metadata": {},
     "output_type": "execute_result"
    }
   ],
   "source": [
    "df.sample(10)"
   ]
  },
  {
   "cell_type": "code",
   "execution_count": 8,
   "id": "d19f6582",
   "metadata": {},
   "outputs": [
    {
     "data": {
      "text/plain": [
       "age                    1854\n",
       "ratings                1908\n",
       "weather                 525\n",
       "traffic                 510\n",
       "vehicle_condition         0\n",
       "type_of_order             0\n",
       "type_of_vehicle           0\n",
       "multiple_deliveries     993\n",
       "festival                228\n",
       "city_type              1198\n",
       "time_taken                0\n",
       "city_name                 0\n",
       "order_month               0\n",
       "order_day_of_week         0\n",
       "is_weekend                0\n",
       "pickup_time_minutes    1640\n",
       "order_time_of_day      2070\n",
       "distance               3630\n",
       "distance_type          3630\n",
       "dtype: int64"
      ]
     },
     "execution_count": 8,
     "metadata": {},
     "output_type": "execute_result"
    }
   ],
   "source": [
    "df.isna().sum()"
   ]
  },
  {
   "cell_type": "code",
   "execution_count": 9,
   "id": "fcd4715b",
   "metadata": {},
   "outputs": [
    {
     "data": {
      "text/plain": [
       "(18186, 0)"
      ]
     },
     "execution_count": 9,
     "metadata": {},
     "output_type": "execute_result"
    }
   ],
   "source": [
    "df.isna().sum().sum(), df.duplicated().sum()"
   ]
  },
  {
   "cell_type": "code",
   "execution_count": 10,
   "id": "bcfb3e8c",
   "metadata": {},
   "outputs": [
    {
     "data": {
      "text/plain": [
       "<Axes: >"
      ]
     },
     "execution_count": 10,
     "metadata": {},
     "output_type": "execute_result"
    },
    {
     "data": {
      "image/png": "[encoded data removed]",
      "text/plain": [
       "<Figure size 2500x1000 with 2 Axes>"
      ]
     },
     "metadata": {},
     "output_type": "display_data"
    }
   ],
   "source": [
    "msno.matrix(df)"
   ]
  },
  {
   "cell_type": "code",
   "execution_count": 11,
   "id": "56cf2aa9",
   "metadata": {},
   "outputs": [
    {
     "data": {
      "text/plain": [
       "Index(['age', 'ratings', 'weather', 'traffic', 'multiple_deliveries',\n",
       "       'festival', 'city_type', 'pickup_time_minutes', 'order_time_of_day',\n",
       "       'distance', 'distance_type'],\n",
       "      dtype='object')"
      ]
     },
     "execution_count": 11,
     "metadata": {},
     "output_type": "execute_result"
    }
   ],
   "source": [
    "missing_cols = df.isna().any(axis=0).loc[lambda x: x].index\n",
    "missing_cols"
   ]
  },
  {
   "cell_type": "markdown",
   "id": "f6e6fae8",
   "metadata": {},
   "source": [
    "# Baseline model\n",
    "\n",
    "- without imputation\n"
   ]
  },
  {
   "cell_type": "code",
   "execution_count": 12,
   "id": "3b6dd0e1",
   "metadata": {},
   "outputs": [],
   "source": [
    "temp_df = df.copy(deep=True).dropna()"
   ]
  },
  {
   "cell_type": "code",
   "execution_count": 13,
   "id": "2d2ae729",
   "metadata": {},
   "outputs": [
    {
     "data": {
      "text/plain": [
       "age                    0\n",
       "ratings                0\n",
       "weather                0\n",
       "traffic                0\n",
       "vehicle_condition      0\n",
       "type_of_order          0\n",
       "type_of_vehicle        0\n",
       "multiple_deliveries    0\n",
       "festival               0\n",
       "city_type              0\n",
       "time_taken             0\n",
       "city_name              0\n",
       "order_month            0\n",
       "order_day_of_week      0\n",
       "is_weekend             0\n",
       "pickup_time_minutes    0\n",
       "order_time_of_day      0\n",
       "distance               0\n",
       "distance_type          0\n",
       "dtype: int64"
      ]
     },
     "execution_count": 13,
     "metadata": {},
     "output_type": "execute_result"
    }
   ],
   "source": [
    "temp_df.isna().sum()"
   ]
  },
  {
   "cell_type": "code",
   "execution_count": 14,
   "id": "8c039f83",
   "metadata": {},
   "outputs": [
    {
     "data": {
      "text/plain": [
       "(37695, 19)"
      ]
     },
     "execution_count": 14,
     "metadata": {},
     "output_type": "execute_result"
    }
   ],
   "source": [
    "temp_df.shape"
   ]
  },
  {
   "cell_type": "code",
   "execution_count": 15,
   "id": "9c80cf08",
   "metadata": {},
   "outputs": [
    {
     "data": {
      "text/html": [
       "<div>\n",
       "<style scoped>\n",
       "    .dataframe tbody tr th:only-of-type {\n",
       "        vertical-align: middle;\n",
       "    }\n",
       "\n",
       "    .dataframe tbody tr th {\n",
       "        vertical-align: top;\n",
       "    }\n",
       "\n",
       "    .dataframe thead th {\n",
       "        text-align: right;\n",
       "    }\n",
       "</style>\n",
       "<table border=\"1\" class=\"dataframe\">\n",
       "  <thead>\n",
       "    <tr style=\"text-align: right;\">\n",
       "      <th></th>\n",
       "      <th>age</th>\n",
       "      <th>ratings</th>\n",
       "      <th>weather</th>\n",
       "      <th>traffic</th>\n",
       "      <th>vehicle_condition</th>\n",
       "      <th>type_of_order</th>\n",
       "      <th>type_of_vehicle</th>\n",
       "      <th>multiple_deliveries</th>\n",
       "      <th>festival</th>\n",
       "      <th>city_type</th>\n",
       "      <th>city_name</th>\n",
       "      <th>order_month</th>\n",
       "      <th>order_day_of_week</th>\n",
       "      <th>is_weekend</th>\n",
       "      <th>pickup_time_minutes</th>\n",
       "      <th>order_time_of_day</th>\n",
       "      <th>distance</th>\n",
       "      <th>distance_type</th>\n",
       "    </tr>\n",
       "  </thead>\n",
       "  <tbody>\n",
       "    <tr>\n",
       "      <th>0</th>\n",
       "      <td>37.0</td>\n",
       "      <td>4.9</td>\n",
       "      <td>sunny</td>\n",
       "      <td>high</td>\n",
       "      <td>2</td>\n",
       "      <td>snack</td>\n",
       "      <td>motorcycle</td>\n",
       "      <td>0.0</td>\n",
       "      <td>no</td>\n",
       "      <td>urban</td>\n",
       "      <td>INDO</td>\n",
       "      <td>3</td>\n",
       "      <td>saturday</td>\n",
       "      <td>1</td>\n",
       "      <td>15.0</td>\n",
       "      <td>morning</td>\n",
       "      <td>3.025149</td>\n",
       "      <td>short</td>\n",
       "    </tr>\n",
       "    <tr>\n",
       "      <th>1</th>\n",
       "      <td>34.0</td>\n",
       "      <td>4.5</td>\n",
       "      <td>stormy</td>\n",
       "      <td>jam</td>\n",
       "      <td>2</td>\n",
       "      <td>snack</td>\n",
       "      <td>scooter</td>\n",
       "      <td>1.0</td>\n",
       "      <td>no</td>\n",
       "      <td>metropolitian</td>\n",
       "      <td>BANG</td>\n",
       "      <td>3</td>\n",
       "      <td>friday</td>\n",
       "      <td>0</td>\n",
       "      <td>5.0</td>\n",
       "      <td>evening</td>\n",
       "      <td>20.183530</td>\n",
       "      <td>very_long</td>\n",
       "    </tr>\n",
       "    <tr>\n",
       "      <th>2</th>\n",
       "      <td>23.0</td>\n",
       "      <td>4.4</td>\n",
       "      <td>sandstorms</td>\n",
       "      <td>low</td>\n",
       "      <td>0</td>\n",
       "      <td>drinks</td>\n",
       "      <td>motorcycle</td>\n",
       "      <td>1.0</td>\n",
       "      <td>no</td>\n",
       "      <td>urban</td>\n",
       "      <td>BANG</td>\n",
       "      <td>3</td>\n",
       "      <td>saturday</td>\n",
       "      <td>1</td>\n",
       "      <td>15.0</td>\n",
       "      <td>morning</td>\n",
       "      <td>1.552758</td>\n",
       "      <td>short</td>\n",
       "    </tr>\n",
       "    <tr>\n",
       "      <th>3</th>\n",
       "      <td>38.0</td>\n",
       "      <td>4.7</td>\n",
       "      <td>sunny</td>\n",
       "      <td>medium</td>\n",
       "      <td>0</td>\n",
       "      <td>buffet</td>\n",
       "      <td>motorcycle</td>\n",
       "      <td>1.0</td>\n",
       "      <td>no</td>\n",
       "      <td>metropolitian</td>\n",
       "      <td>COIMB</td>\n",
       "      <td>4</td>\n",
       "      <td>tuesday</td>\n",
       "      <td>0</td>\n",
       "      <td>10.0</td>\n",
       "      <td>evening</td>\n",
       "      <td>7.790401</td>\n",
       "      <td>medium</td>\n",
       "    </tr>\n",
       "    <tr>\n",
       "      <th>4</th>\n",
       "      <td>32.0</td>\n",
       "      <td>4.6</td>\n",
       "      <td>cloudy</td>\n",
       "      <td>high</td>\n",
       "      <td>1</td>\n",
       "      <td>snack</td>\n",
       "      <td>scooter</td>\n",
       "      <td>1.0</td>\n",
       "      <td>no</td>\n",
       "      <td>metropolitian</td>\n",
       "      <td>CHEN</td>\n",
       "      <td>3</td>\n",
       "      <td>saturday</td>\n",
       "      <td>1</td>\n",
       "      <td>15.0</td>\n",
       "      <td>afternoon</td>\n",
       "      <td>6.210138</td>\n",
       "      <td>medium</td>\n",
       "    </tr>\n",
       "  </tbody>\n",
       "</table>\n",
       "</div>"
      ],
      "text/plain": [
       "    age  ratings     weather traffic  vehicle_condition type_of_order  \\\n",
       "0  37.0      4.9       sunny    high                  2         snack   \n",
       "1  34.0      4.5      stormy     jam                  2         snack   \n",
       "2  23.0      4.4  sandstorms     low                  0        drinks   \n",
       "3  38.0      4.7       sunny  medium                  0        buffet   \n",
       "4  32.0      4.6      cloudy    high                  1         snack   \n",
       "\n",
       "  type_of_vehicle  multiple_deliveries festival      city_type city_name  \\\n",
       "0      motorcycle                  0.0       no          urban      INDO   \n",
       "1         scooter                  1.0       no  metropolitian      BANG   \n",
       "2      motorcycle                  1.0       no          urban      BANG   \n",
       "3      motorcycle                  1.0       no  metropolitian     COIMB   \n",
       "4         scooter                  1.0       no  metropolitian      CHEN   \n",
       "\n",
       "   order_month order_day_of_week  is_weekend  pickup_time_minutes  \\\n",
       "0            3          saturday           1                 15.0   \n",
       "1            3            friday           0                  5.0   \n",
       "2            3          saturday           1                 15.0   \n",
       "3            4           tuesday           0                 10.0   \n",
       "4            3          saturday           1                 15.0   \n",
       "\n",
       "  order_time_of_day   distance distance_type  \n",
       "0           morning   3.025149         short  \n",
       "1           evening  20.183530     very_long  \n",
       "2           morning   1.552758         short  \n",
       "3           evening   7.790401        medium  \n",
       "4         afternoon   6.210138        medium  "
      ]
     },
     "execution_count": 15,
     "metadata": {},
     "output_type": "execute_result"
    }
   ],
   "source": [
    "X = temp_df.drop(columns=\"time_taken\", axis=1)\n",
    "y = temp_df[\"time_taken\"]\n",
    "X.head()"
   ]
  },
  {
   "cell_type": "code",
   "execution_count": 16,
   "id": "e729ce03",
   "metadata": {},
   "outputs": [
    {
     "data": {
      "text/plain": [
       "((30156, 18), (7539, 18), (7539,), (30156,))"
      ]
     },
     "execution_count": 16,
     "metadata": {},
     "output_type": "execute_result"
    }
   ],
   "source": [
    "xtrain, xtest, ytrain, ytest = train_test_split(X, y, test_size=0.2, random_state=42)\n",
    "xtrain.shape, xtest.shape, ytest.shape, ytrain.shape"
   ]
  },
  {
   "cell_type": "code",
   "execution_count": 17,
   "id": "af298f34",
   "metadata": {},
   "outputs": [
    {
     "data": {
      "text/plain": [
       "['age',\n",
       " 'ratings',\n",
       " 'weather',\n",
       " 'traffic',\n",
       " 'vehicle_condition',\n",
       " 'type_of_order',\n",
       " 'type_of_vehicle',\n",
       " 'multiple_deliveries',\n",
       " 'festival',\n",
       " 'city_type',\n",
       " 'time_taken',\n",
       " 'city_name',\n",
       " 'order_month',\n",
       " 'order_day_of_week',\n",
       " 'is_weekend',\n",
       " 'pickup_time_minutes',\n",
       " 'order_time_of_day',\n",
       " 'distance',\n",
       " 'distance_type']"
      ]
     },
     "execution_count": 17,
     "metadata": {},
     "output_type": "execute_result"
    }
   ],
   "source": [
    "temp_df.columns.tolist()"
   ]
  },
  {
   "cell_type": "code",
   "execution_count": 18,
   "id": "ba3bdaf1",
   "metadata": {},
   "outputs": [],
   "source": [
    "num_cols = [\"age\", \"ratings\", \"pickup_time_minutes\", \"distance\"]\n",
    "\n",
    "nominal_cat_cols = [\n",
    "    \"weather\",\n",
    "    \"type_of_order\",\n",
    "    \"type_of_vehicle\",\n",
    "    \"festival\",\n",
    "    \"city_type\",\n",
    "    \"city_name\",\n",
    "    \"order_month\",\n",
    "    \"order_day_of_week\",\n",
    "    \"order_time_of_day\",\n",
    "    \"is_weekend\",\n",
    "]\n",
    "ordinal_cat_cols = [\"traffic\", \"distance_type\"]"
   ]
  },
  {
   "cell_type": "code",
   "execution_count": 19,
   "id": "39586a39",
   "metadata": {},
   "outputs": [
    {
     "name": "stdout",
     "output_type": "stream",
     "text": [
      "traffic ['high' 'jam' 'low' 'medium']\n",
      "distance_type ['short', 'very_long', 'medium', 'long']\n",
      "Categories (4, object): ['short' < 'medium' < 'long' < 'very_long']\n"
     ]
    }
   ],
   "source": [
    "for col in ordinal_cat_cols:\n",
    "    print(col, temp_df[col].unique())"
   ]
  },
  {
   "cell_type": "code",
   "execution_count": 20,
   "id": "6c23f11f",
   "metadata": {},
   "outputs": [],
   "source": [
    "traffic_order = [\"low\", \"medium\", \"high\", \"jam\"]\n",
    "distance_order = [\"short\", \"medium\", \"long\", \"very_long\"]"
   ]
  },
  {
   "cell_type": "code",
   "execution_count": 21,
   "id": "830b5f6a",
   "metadata": {},
   "outputs": [
    {
     "data": {
      "text/html": [
       "<style>#sk-container-id-1 {\n",
       "  /* Definition of color scheme common for light and dark mode */\n",
       "  --sklearn-color-text: black;\n",
       "  --sklearn-color-line: gray;\n",
       "  /* Definition of color scheme for unfitted estimators */\n",
       "  --sklearn-color-unfitted-level-0: #fff5e6;\n",
       "  --sklearn-color-unfitted-level-1: #f6e4d2;\n",
       "  --sklearn-color-unfitted-level-2: #ffe0b3;\n",
       "  --sklearn-color-unfitted-level-3: chocolate;\n",
       "  /* Definition of color scheme for fitted estimators */\n",
       "  --sklearn-color-fitted-level-0: #f0f8ff;\n",
       "  --sklearn-color-fitted-level-1: #d4ebff;\n",
       "  --sklearn-color-fitted-level-2: #b3dbfd;\n",
       "  --sklearn-color-fitted-level-3: cornflowerblue;\n",
       "\n",
       "  /* Specific color for light theme */\n",
       "  --sklearn-color-text-on-default-background: var(--sg-text-color, var(--theme-code-foreground, var(--jp-content-font-color1, black)));\n",
       "  --sklearn-color-background: var(--sg-background-color, var(--theme-background, var(--jp-layout-color0, white)));\n",
       "  --sklearn-color-border-box: var(--sg-text-color, var(--theme-code-foreground, var(--jp-content-font-color1, black)));\n",
       "  --sklearn-color-icon: #696969;\n",
       "\n",
       "  @media (prefers-color-scheme: dark) {\n",
       "    /* Redefinition of color scheme for dark theme */\n",
       "    --sklearn-color-text-on-default-background: var(--sg-text-color, var(--theme-code-foreground, var(--jp-content-font-color1, white)));\n",
       "    --sklearn-color-background: var(--sg-background-color, var(--theme-background, var(--jp-layout-color0, #111)));\n",
       "    --sklearn-color-border-box: var(--sg-text-color, var(--theme-code-foreground, var(--jp-content-font-color1, white)));\n",
       "    --sklearn-color-icon: #878787;\n",
       "  }\n",
       "}\n",
       "\n",
       "#sk-container-id-1 {\n",
       "  color: var(--sklearn-color-text);\n",
       "}\n",
       "\n",
       "#sk-container-id-1 pre {\n",
       "  padding: 0;\n",
       "}\n",
       "\n",
       "#sk-container-id-1 input.sk-hidden--visually {\n",
       "  border: 0;\n",
       "  clip: rect(1px 1px 1px 1px);\n",
       "  clip: rect(1px, 1px, 1px, 1px);\n",
       "  height: 1px;\n",
       "  margin: -1px;\n",
       "  overflow: hidden;\n",
       "  padding: 0;\n",
       "  position: absolute;\n",
       "  width: 1px;\n",
       "}\n",
       "\n",
       "#sk-container-id-1 div.sk-dashed-wrapped {\n",
       "  border: 1px dashed var(--sklearn-color-line);\n",
       "  margin: 0 0.4em 0.5em 0.4em;\n",
       "  box-sizing: border-box;\n",
       "  padding-bottom: 0.4em;\n",
       "  background-color: var(--sklearn-color-background);\n",
       "}\n",
       "\n",
       "#sk-container-id-1 div.sk-container {\n",
       "  /* jupyter's `normalize.less` sets `[hidden] { display: none; }`\n",
       "     but bootstrap.min.css set `[hidden] { display: none !important; }`\n",
       "     so we also need the `!important` here to be able to override the\n",
       "     default hidden behavior on the sphinx rendered scikit-learn.org.\n",
       "     See: https://github.com/scikit-learn/scikit-learn/issues/21755 */\n",
       "  display: inline-block !important;\n",
       "  position: relative;\n",
       "}\n",
       "\n",
       "#sk-container-id-1 div.sk-text-repr-fallback {\n",
       "  display: none;\n",
       "}\n",
       "\n",
       "div.sk-parallel-item,\n",
       "div.sk-serial,\n",
       "div.sk-item {\n",
       "  /* draw centered vertical line to link estimators */\n",
       "  background-image: linear-gradient(var(--sklearn-color-text-on-default-background), var(--sklearn-color-text-on-default-background));\n",
       "  background-size: 2px 100%;\n",
       "  background-repeat: no-repeat;\n",
       "  background-position: center center;\n",
       "}\n",
       "\n",
       "/* Parallel-specific style estimator block */\n",
       "\n",
       "#sk-container-id-1 div.sk-parallel-item::after {\n",
       "  content: \"\";\n",
       "  width: 100%;\n",
       "  border-bottom: 2px solid var(--sklearn-color-text-on-default-background);\n",
       "  flex-grow: 1;\n",
       "}\n",
       "\n",
       "#sk-container-id-1 div.sk-parallel {\n",
       "  display: flex;\n",
       "  align-items: stretch;\n",
       "  justify-content: center;\n",
       "  background-color: var(--sklearn-color-background);\n",
       "  position: relative;\n",
       "}\n",
       "\n",
       "#sk-container-id-1 div.sk-parallel-item {\n",
       "  display: flex;\n",
       "  flex-direction: column;\n",
       "}\n",
       "\n",
       "#sk-container-id-1 div.sk-parallel-item:first-child::after {\n",
       "  align-self: flex-end;\n",
       "  width: 50%;\n",
       "}\n",
       "\n",
       "#sk-container-id-1 div.sk-parallel-item:last-child::after {\n",
       "  align-self: flex-start;\n",
       "  width: 50%;\n",
       "}\n",
       "\n",
       "#sk-container-id-1 div.sk-parallel-item:only-child::after {\n",
       "  width: 0;\n",
       "}\n",
       "\n",
       "/* Serial-specific style estimator block */\n",
       "\n",
       "#sk-container-id-1 div.sk-serial {\n",
       "  display: flex;\n",
       "  flex-direction: column;\n",
       "  align-items: center;\n",
       "  background-color: var(--sklearn-color-background);\n",
       "  padding-right: 1em;\n",
       "  padding-left: 1em;\n",
       "}\n",
       "\n",
       "\n",
       "/* Toggleable style: style used for estimator/Pipeline/ColumnTransformer box that is\n",
       "clickable and can be expanded/collapsed.\n",
       "- Pipeline and ColumnTransformer use this feature and define the default style\n",
       "- Estimators will overwrite some part of the style using the `sk-estimator` class\n",
       "*/\n",
       "\n",
       "/* Pipeline and ColumnTransformer style (default) */\n",
       "\n",
       "#sk-container-id-1 div.sk-toggleable {\n",
       "  /* Default theme specific background. It is overwritten whether we have a\n",
       "  specific estimator or a Pipeline/ColumnTransformer */\n",
       "  background-color: var(--sklearn-color-background);\n",
       "}\n",
       "\n",
       "/* Toggleable label */\n",
       "#sk-container-id-1 label.sk-toggleable__label {\n",
       "  cursor: pointer;\n",
       "  display: block;\n",
       "  width: 100%;\n",
       "  margin-bottom: 0;\n",
       "  padding: 0.5em;\n",
       "  box-sizing: border-box;\n",
       "  text-align: center;\n",
       "}\n",
       "\n",
       "#sk-container-id-1 label.sk-toggleable__label-arrow:before {\n",
       "  /* Arrow on the left of the label */\n",
       "  content: \"▸\";\n",
       "  float: left;\n",
       "  margin-right: 0.25em;\n",
       "  color: var(--sklearn-color-icon);\n",
       "}\n",
       "\n",
       "#sk-container-id-1 label.sk-toggleable__label-arrow:hover:before {\n",
       "  color: var(--sklearn-color-text);\n",
       "}\n",
       "\n",
       "/* Toggleable content - dropdown */\n",
       "\n",
       "#sk-container-id-1 div.sk-toggleable__content {\n",
       "  max-height: 0;\n",
       "  max-width: 0;\n",
       "  overflow: hidden;\n",
       "  text-align: left;\n",
       "  /* unfitted */\n",
       "  background-color: var(--sklearn-color-unfitted-level-0);\n",
       "}\n",
       "\n",
       "#sk-container-id-1 div.sk-toggleable__content.fitted {\n",
       "  /* fitted */\n",
       "  background-color: var(--sklearn-color-fitted-level-0);\n",
       "}\n",
       "\n",
       "#sk-container-id-1 div.sk-toggleable__content pre {\n",
       "  margin: 0.2em;\n",
       "  border-radius: 0.25em;\n",
       "  color: var(--sklearn-color-text);\n",
       "  /* unfitted */\n",
       "  background-color: var(--sklearn-color-unfitted-level-0);\n",
       "}\n",
       "\n",
       "#sk-container-id-1 div.sk-toggleable__content.fitted pre {\n",
       "  /* unfitted */\n",
       "  background-color: var(--sklearn-color-fitted-level-0);\n",
       "}\n",
       "\n",
       "#sk-container-id-1 input.sk-toggleable__control:checked~div.sk-toggleable__content {\n",
       "  /* Expand drop-down */\n",
       "  max-height: 200px;\n",
       "  max-width: 100%;\n",
       "  overflow: auto;\n",
       "}\n",
       "\n",
       "#sk-container-id-1 input.sk-toggleable__control:checked~label.sk-toggleable__label-arrow:before {\n",
       "  content: \"▾\";\n",
       "}\n",
       "\n",
       "/* Pipeline/ColumnTransformer-specific style */\n",
       "\n",
       "#sk-container-id-1 div.sk-label input.sk-toggleable__control:checked~label.sk-toggleable__label {\n",
       "  color: var(--sklearn-color-text);\n",
       "  background-color: var(--sklearn-color-unfitted-level-2);\n",
       "}\n",
       "\n",
       "#sk-container-id-1 div.sk-label.fitted input.sk-toggleable__control:checked~label.sk-toggleable__label {\n",
       "  background-color: var(--sklearn-color-fitted-level-2);\n",
       "}\n",
       "\n",
       "/* Estimator-specific style */\n",
       "\n",
       "/* Colorize estimator box */\n",
       "#sk-container-id-1 div.sk-estimator input.sk-toggleable__control:checked~label.sk-toggleable__label {\n",
       "  /* unfitted */\n",
       "  background-color: var(--sklearn-color-unfitted-level-2);\n",
       "}\n",
       "\n",
       "#sk-container-id-1 div.sk-estimator.fitted input.sk-toggleable__control:checked~label.sk-toggleable__label {\n",
       "  /* fitted */\n",
       "  background-color: var(--sklearn-color-fitted-level-2);\n",
       "}\n",
       "\n",
       "#sk-container-id-1 div.sk-label label.sk-toggleable__label,\n",
       "#sk-container-id-1 div.sk-label label {\n",
       "  /* The background is the default theme color */\n",
       "  color: var(--sklearn-color-text-on-default-background);\n",
       "}\n",
       "\n",
       "/* On hover, darken the color of the background */\n",
       "#sk-container-id-1 div.sk-label:hover label.sk-toggleable__label {\n",
       "  color: var(--sklearn-color-text);\n",
       "  background-color: var(--sklearn-color-unfitted-level-2);\n",
       "}\n",
       "\n",
       "/* Label box, darken color on hover, fitted */\n",
       "#sk-container-id-1 div.sk-label.fitted:hover label.sk-toggleable__label.fitted {\n",
       "  color: var(--sklearn-color-text);\n",
       "  background-color: var(--sklearn-color-fitted-level-2);\n",
       "}\n",
       "\n",
       "/* Estimator label */\n",
       "\n",
       "#sk-container-id-1 div.sk-label label {\n",
       "  font-family: monospace;\n",
       "  font-weight: bold;\n",
       "  display: inline-block;\n",
       "  line-height: 1.2em;\n",
       "}\n",
       "\n",
       "#sk-container-id-1 div.sk-label-container {\n",
       "  text-align: center;\n",
       "}\n",
       "\n",
       "/* Estimator-specific */\n",
       "#sk-container-id-1 div.sk-estimator {\n",
       "  font-family: monospace;\n",
       "  border: 1px dotted var(--sklearn-color-border-box);\n",
       "  border-radius: 0.25em;\n",
       "  box-sizing: border-box;\n",
       "  margin-bottom: 0.5em;\n",
       "  /* unfitted */\n",
       "  background-color: var(--sklearn-color-unfitted-level-0);\n",
       "}\n",
       "\n",
       "#sk-container-id-1 div.sk-estimator.fitted {\n",
       "  /* fitted */\n",
       "  background-color: var(--sklearn-color-fitted-level-0);\n",
       "}\n",
       "\n",
       "/* on hover */\n",
       "#sk-container-id-1 div.sk-estimator:hover {\n",
       "  /* unfitted */\n",
       "  background-color: var(--sklearn-color-unfitted-level-2);\n",
       "}\n",
       "\n",
       "#sk-container-id-1 div.sk-estimator.fitted:hover {\n",
       "  /* fitted */\n",
       "  background-color: var(--sklearn-color-fitted-level-2);\n",
       "}\n",
       "\n",
       "/* Specification for estimator info (e.g. \"i\" and \"?\") */\n",
       "\n",
       "/* Common style for \"i\" and \"?\" */\n",
       "\n",
       ".sk-estimator-doc-link,\n",
       "a:link.sk-estimator-doc-link,\n",
       "a:visited.sk-estimator-doc-link {\n",
       "  float: right;\n",
       "  font-size: smaller;\n",
       "  line-height: 1em;\n",
       "  font-family: monospace;\n",
       "  background-color: var(--sklearn-color-background);\n",
       "  border-radius: 1em;\n",
       "  height: 1em;\n",
       "  width: 1em;\n",
       "  text-decoration: none !important;\n",
       "  margin-left: 1ex;\n",
       "  /* unfitted */\n",
       "  border: var(--sklearn-color-unfitted-level-1) 1pt solid;\n",
       "  color: var(--sklearn-color-unfitted-level-1);\n",
       "}\n",
       "\n",
       ".sk-estimator-doc-link.fitted,\n",
       "a:link.sk-estimator-doc-link.fitted,\n",
       "a:visited.sk-estimator-doc-link.fitted {\n",
       "  /* fitted */\n",
       "  border: var(--sklearn-color-fitted-level-1) 1pt solid;\n",
       "  color: var(--sklearn-color-fitted-level-1);\n",
       "}\n",
       "\n",
       "/* On hover */\n",
       "div.sk-estimator:hover .sk-estimator-doc-link:hover,\n",
       ".sk-estimator-doc-link:hover,\n",
       "div.sk-label-container:hover .sk-estimator-doc-link:hover,\n",
       ".sk-estimator-doc-link:hover {\n",
       "  /* unfitted */\n",
       "  background-color: var(--sklearn-color-unfitted-level-3);\n",
       "  color: var(--sklearn-color-background);\n",
       "  text-decoration: none;\n",
       "}\n",
       "\n",
       "div.sk-estimator.fitted:hover .sk-estimator-doc-link.fitted:hover,\n",
       ".sk-estimator-doc-link.fitted:hover,\n",
       "div.sk-label-container:hover .sk-estimator-doc-link.fitted:hover,\n",
       ".sk-estimator-doc-link.fitted:hover {\n",
       "  /* fitted */\n",
       "  background-color: var(--sklearn-color-fitted-level-3);\n",
       "  color: var(--sklearn-color-background);\n",
       "  text-decoration: none;\n",
       "}\n",
       "\n",
       "/* Span, style for the box shown on hovering the info icon */\n",
       ".sk-estimator-doc-link span {\n",
       "  display: none;\n",
       "  z-index: 9999;\n",
       "  position: relative;\n",
       "  font-weight: normal;\n",
       "  right: .2ex;\n",
       "  padding: .5ex;\n",
       "  margin: .5ex;\n",
       "  width: min-content;\n",
       "  min-width: 20ex;\n",
       "  max-width: 50ex;\n",
       "  color: var(--sklearn-color-text);\n",
       "  box-shadow: 2pt 2pt 4pt #999;\n",
       "  /* unfitted */\n",
       "  background: var(--sklearn-color-unfitted-level-0);\n",
       "  border: .5pt solid var(--sklearn-color-unfitted-level-3);\n",
       "}\n",
       "\n",
       ".sk-estimator-doc-link.fitted span {\n",
       "  /* fitted */\n",
       "  background: var(--sklearn-color-fitted-level-0);\n",
       "  border: var(--sklearn-color-fitted-level-3);\n",
       "}\n",
       "\n",
       ".sk-estimator-doc-link:hover span {\n",
       "  display: block;\n",
       "}\n",
       "\n",
       "/* \"?\"-specific style due to the `<a>` HTML tag */\n",
       "\n",
       "#sk-container-id-1 a.estimator_doc_link {\n",
       "  float: right;\n",
       "  font-size: 1rem;\n",
       "  line-height: 1em;\n",
       "  font-family: monospace;\n",
       "  background-color: var(--sklearn-color-background);\n",
       "  border-radius: 1rem;\n",
       "  height: 1rem;\n",
       "  width: 1rem;\n",
       "  text-decoration: none;\n",
       "  /* unfitted */\n",
       "  color: var(--sklearn-color-unfitted-level-1);\n",
       "  border: var(--sklearn-color-unfitted-level-1) 1pt solid;\n",
       "}\n",
       "\n",
       "#sk-container-id-1 a.estimator_doc_link.fitted {\n",
       "  /* fitted */\n",
       "  border: var(--sklearn-color-fitted-level-1) 1pt solid;\n",
       "  color: var(--sklearn-color-fitted-level-1);\n",
       "}\n",
       "\n",
       "/* On hover */\n",
       "#sk-container-id-1 a.estimator_doc_link:hover {\n",
       "  /* unfitted */\n",
       "  background-color: var(--sklearn-color-unfitted-level-3);\n",
       "  color: var(--sklearn-color-background);\n",
       "  text-decoration: none;\n",
       "}\n",
       "\n",
       "#sk-container-id-1 a.estimator_doc_link.fitted:hover {\n",
       "  /* fitted */\n",
       "  background-color: var(--sklearn-color-fitted-level-3);\n",
       "}\n",
       "</style><div id=\"sk-container-id-1\" class=\"sk-top-container\"><div class=\"sk-text-repr-fallback\"><pre>ColumnTransformer(n_jobs=3, remainder=&#x27;passthrough&#x27;,\n",
       "                  transformers=[(&#x27;scale&#x27;, MinMaxScaler(),\n",
       "                                 [&#x27;age&#x27;, &#x27;ratings&#x27;, &#x27;pickup_time_minutes&#x27;,\n",
       "                                  &#x27;distance&#x27;]),\n",
       "                                (&#x27;nominal_encode&#x27;,\n",
       "                                 OneHotEncoder(drop=&#x27;first&#x27;,\n",
       "                                               handle_unknown=&#x27;ignore&#x27;,\n",
       "                                               sparse_output=False),\n",
       "                                 [&#x27;weather&#x27;, &#x27;type_of_order&#x27;, &#x27;type_of_vehicle&#x27;,\n",
       "                                  &#x27;festival&#x27;, &#x27;city_type&#x27;, &#x27;city_name&#x27;,\n",
       "                                  &#x27;order_month&#x27;, &#x27;order_day_of_week&#x27;,\n",
       "                                  &#x27;order_time_of_day&#x27;, &#x27;is_weekend&#x27;]),\n",
       "                                (&#x27;ordinal_encode&#x27;,\n",
       "                                 OrdinalEncoder(categories=[[&#x27;low&#x27;, &#x27;medium&#x27;,\n",
       "                                                             &#x27;high&#x27;, &#x27;jam&#x27;],\n",
       "                                                            [&#x27;short&#x27;, &#x27;medium&#x27;,\n",
       "                                                             &#x27;long&#x27;,\n",
       "                                                             &#x27;very_long&#x27;]]),\n",
       "                                 [&#x27;traffic&#x27;, &#x27;distance_type&#x27;])],\n",
       "                  verbose_feature_names_out=False)</pre><b>In a Jupyter environment, please rerun this cell to show the HTML representation or trust the notebook. <br />On GitHub, the HTML representation is unable to render, please try loading this page with nbviewer.org.</b></div><div class=\"sk-container\" hidden><div class=\"sk-item sk-dashed-wrapped\"><div class=\"sk-label-container\"><div class=\"sk-label  sk-toggleable\"><input class=\"sk-toggleable__control sk-hidden--visually\" id=\"sk-estimator-id-1\" type=\"checkbox\" ><label for=\"sk-estimator-id-1\" class=\"sk-toggleable__label  sk-toggleable__label-arrow \">&nbsp;&nbsp;ColumnTransformer<a class=\"sk-estimator-doc-link \" rel=\"noreferrer\" target=\"_blank\" href=\"https://scikit-learn.org/1.5/modules/generated/sklearn.compose.ColumnTransformer.html\">?<span>Documentation for ColumnTransformer</span></a><span class=\"sk-estimator-doc-link \">i<span>Not fitted</span></span></label><div class=\"sk-toggleable__content \"><pre>ColumnTransformer(n_jobs=3, remainder=&#x27;passthrough&#x27;,\n",
       "                  transformers=[(&#x27;scale&#x27;, MinMaxScaler(),\n",
       "                                 [&#x27;age&#x27;, &#x27;ratings&#x27;, &#x27;pickup_time_minutes&#x27;,\n",
       "                                  &#x27;distance&#x27;]),\n",
       "                                (&#x27;nominal_encode&#x27;,\n",
       "                                 OneHotEncoder(drop=&#x27;first&#x27;,\n",
       "                                               handle_unknown=&#x27;ignore&#x27;,\n",
       "                                               sparse_output=False),\n",
       "                                 [&#x27;weather&#x27;, &#x27;type_of_order&#x27;, &#x27;type_of_vehicle&#x27;,\n",
       "                                  &#x27;festival&#x27;, &#x27;city_type&#x27;, &#x27;city_name&#x27;,\n",
       "                                  &#x27;order_month&#x27;, &#x27;order_day_of_week&#x27;,\n",
       "                                  &#x27;order_time_of_day&#x27;, &#x27;is_weekend&#x27;]),\n",
       "                                (&#x27;ordinal_encode&#x27;,\n",
       "                                 OrdinalEncoder(categories=[[&#x27;low&#x27;, &#x27;medium&#x27;,\n",
       "                                                             &#x27;high&#x27;, &#x27;jam&#x27;],\n",
       "                                                            [&#x27;short&#x27;, &#x27;medium&#x27;,\n",
       "                                                             &#x27;long&#x27;,\n",
       "                                                             &#x27;very_long&#x27;]]),\n",
       "                                 [&#x27;traffic&#x27;, &#x27;distance_type&#x27;])],\n",
       "                  verbose_feature_names_out=False)</pre></div> </div></div><div class=\"sk-parallel\"><div class=\"sk-parallel-item\"><div class=\"sk-item\"><div class=\"sk-label-container\"><div class=\"sk-label  sk-toggleable\"><input class=\"sk-toggleable__control sk-hidden--visually\" id=\"sk-estimator-id-2\" type=\"checkbox\" ><label for=\"sk-estimator-id-2\" class=\"sk-toggleable__label  sk-toggleable__label-arrow \">scale</label><div class=\"sk-toggleable__content \"><pre>[&#x27;age&#x27;, &#x27;ratings&#x27;, &#x27;pickup_time_minutes&#x27;, &#x27;distance&#x27;]</pre></div> </div></div><div class=\"sk-serial\"><div class=\"sk-item\"><div class=\"sk-estimator  sk-toggleable\"><input class=\"sk-toggleable__control sk-hidden--visually\" id=\"sk-estimator-id-3\" type=\"checkbox\" ><label for=\"sk-estimator-id-3\" class=\"sk-toggleable__label  sk-toggleable__label-arrow \">&nbsp;MinMaxScaler<a class=\"sk-estimator-doc-link \" rel=\"noreferrer\" target=\"_blank\" href=\"https://scikit-learn.org/1.5/modules/generated/sklearn.preprocessing.MinMaxScaler.html\">?<span>Documentation for MinMaxScaler</span></a></label><div class=\"sk-toggleable__content \"><pre>MinMaxScaler()</pre></div> </div></div></div></div></div><div class=\"sk-parallel-item\"><div class=\"sk-item\"><div class=\"sk-label-container\"><div class=\"sk-label  sk-toggleable\"><input class=\"sk-toggleable__control sk-hidden--visually\" id=\"sk-estimator-id-4\" type=\"checkbox\" ><label for=\"sk-estimator-id-4\" class=\"sk-toggleable__label  sk-toggleable__label-arrow \">nominal_encode</label><div class=\"sk-toggleable__content \"><pre>[&#x27;weather&#x27;, &#x27;type_of_order&#x27;, &#x27;type_of_vehicle&#x27;, &#x27;festival&#x27;, &#x27;city_type&#x27;, &#x27;city_name&#x27;, &#x27;order_month&#x27;, &#x27;order_day_of_week&#x27;, &#x27;order_time_of_day&#x27;, &#x27;is_weekend&#x27;]</pre></div> </div></div><div class=\"sk-serial\"><div class=\"sk-item\"><div class=\"sk-estimator  sk-toggleable\"><input class=\"sk-toggleable__control sk-hidden--visually\" id=\"sk-estimator-id-5\" type=\"checkbox\" ><label for=\"sk-estimator-id-5\" class=\"sk-toggleable__label  sk-toggleable__label-arrow \">&nbsp;OneHotEncoder<a class=\"sk-estimator-doc-link \" rel=\"noreferrer\" target=\"_blank\" href=\"https://scikit-learn.org/1.5/modules/generated/sklearn.preprocessing.OneHotEncoder.html\">?<span>Documentation for OneHotEncoder</span></a></label><div class=\"sk-toggleable__content \"><pre>OneHotEncoder(drop=&#x27;first&#x27;, handle_unknown=&#x27;ignore&#x27;, sparse_output=False)</pre></div> </div></div></div></div></div><div class=\"sk-parallel-item\"><div class=\"sk-item\"><div class=\"sk-label-container\"><div class=\"sk-label  sk-toggleable\"><input class=\"sk-toggleable__control sk-hidden--visually\" id=\"sk-estimator-id-6\" type=\"checkbox\" ><label for=\"sk-estimator-id-6\" class=\"sk-toggleable__label  sk-toggleable__label-arrow \">ordinal_encode</label><div class=\"sk-toggleable__content \"><pre>[&#x27;traffic&#x27;, &#x27;distance_type&#x27;]</pre></div> </div></div><div class=\"sk-serial\"><div class=\"sk-item\"><div class=\"sk-estimator  sk-toggleable\"><input class=\"sk-toggleable__control sk-hidden--visually\" id=\"sk-estimator-id-7\" type=\"checkbox\" ><label for=\"sk-estimator-id-7\" class=\"sk-toggleable__label  sk-toggleable__label-arrow \">&nbsp;OrdinalEncoder<a class=\"sk-estimator-doc-link \" rel=\"noreferrer\" target=\"_blank\" href=\"https://scikit-learn.org/1.5/modules/generated/sklearn.preprocessing.OrdinalEncoder.html\">?<span>Documentation for OrdinalEncoder</span></a></label><div class=\"sk-toggleable__content \"><pre>OrdinalEncoder(categories=[[&#x27;low&#x27;, &#x27;medium&#x27;, &#x27;high&#x27;, &#x27;jam&#x27;],\n",
       "                           [&#x27;short&#x27;, &#x27;medium&#x27;, &#x27;long&#x27;, &#x27;very_long&#x27;]])</pre></div> </div></div></div></div></div><div class=\"sk-parallel-item\"><div class=\"sk-item\"><div class=\"sk-label-container\"><div class=\"sk-label  sk-toggleable\"><input class=\"sk-toggleable__control sk-hidden--visually\" id=\"sk-estimator-id-8\" type=\"checkbox\" ><label for=\"sk-estimator-id-8\" class=\"sk-toggleable__label  sk-toggleable__label-arrow \">remainder</label><div class=\"sk-toggleable__content \"><pre></pre></div> </div></div><div class=\"sk-serial\"><div class=\"sk-item\"><div class=\"sk-estimator  sk-toggleable\"><input class=\"sk-toggleable__control sk-hidden--visually\" id=\"sk-estimator-id-9\" type=\"checkbox\" ><label for=\"sk-estimator-id-9\" class=\"sk-toggleable__label  sk-toggleable__label-arrow \">passthrough</label><div class=\"sk-toggleable__content \"><pre>passthrough</pre></div> </div></div></div></div></div></div></div></div></div>"
      ],
      "text/plain": [
       "ColumnTransformer(n_jobs=3, remainder='passthrough',\n",
       "                  transformers=[('scale', MinMaxScaler(),\n",
       "                                 ['age', 'ratings', 'pickup_time_minutes',\n",
       "                                  'distance']),\n",
       "                                ('nominal_encode',\n",
       "                                 OneHotEncoder(drop='first',\n",
       "                                               handle_unknown='ignore',\n",
       "                                               sparse_output=False),\n",
       "                                 ['weather', 'type_of_order', 'type_of_vehicle',\n",
       "                                  'festival', 'city_type', 'city_name',\n",
       "                                  'order_month', 'order_day_of_week',\n",
       "                                  'order_time_of_day', 'is_weekend']),\n",
       "                                ('ordinal_encode',\n",
       "                                 OrdinalEncoder(categories=[['low', 'medium',\n",
       "                                                             'high', 'jam'],\n",
       "                                                            ['short', 'medium',\n",
       "                                                             'long',\n",
       "                                                             'very_long']]),\n",
       "                                 ['traffic', 'distance_type'])],\n",
       "                  verbose_feature_names_out=False)"
      ]
     },
     "execution_count": 21,
     "metadata": {},
     "output_type": "execute_result"
    }
   ],
   "source": [
    "preprocessor = ColumnTransformer(\n",
    "    transformers=[\n",
    "        (\"scale\", MinMaxScaler(), num_cols),\n",
    "        (\n",
    "            \"nominal_encode\",\n",
    "            OneHotEncoder(drop=\"first\", handle_unknown=\"ignore\", sparse_output=False),\n",
    "            nominal_cat_cols,\n",
    "        ),\n",
    "        (\n",
    "            \"ordinal_encode\",\n",
    "            OrdinalEncoder(categories=[traffic_order, distance_order]),\n",
    "            ordinal_cat_cols,\n",
    "        ),\n",
    "    ],\n",
    "    remainder=\"passthrough\",\n",
    "    n_jobs=3,\n",
    "    verbose_feature_names_out=False,\n",
    ")\n",
    "preprocessor.set_output(transform=\"pandas\")"
   ]
  },
  {
   "cell_type": "code",
   "execution_count": 22,
   "id": "caa262c3",
   "metadata": {},
   "outputs": [],
   "source": [
    "xtrain_transform = preprocessor.fit_transform(xtrain)\n",
    "xtest_transform = preprocessor.transform(xtest)"
   ]
  },
  {
   "cell_type": "code",
   "execution_count": 23,
   "id": "09557054",
   "metadata": {},
   "outputs": [
    {
     "data": {
      "text/html": [
       "<div>\n",
       "<style scoped>\n",
       "    .dataframe tbody tr th:only-of-type {\n",
       "        vertical-align: middle;\n",
       "    }\n",
       "\n",
       "    .dataframe tbody tr th {\n",
       "        vertical-align: top;\n",
       "    }\n",
       "\n",
       "    .dataframe thead th {\n",
       "        text-align: right;\n",
       "    }\n",
       "</style>\n",
       "<table border=\"1\" class=\"dataframe\">\n",
       "  <thead>\n",
       "    <tr style=\"text-align: right;\">\n",
       "      <th></th>\n",
       "      <th>age</th>\n",
       "      <th>ratings</th>\n",
       "      <th>pickup_time_minutes</th>\n",
       "      <th>distance</th>\n",
       "      <th>weather_fog</th>\n",
       "      <th>weather_sandstorms</th>\n",
       "      <th>weather_stormy</th>\n",
       "      <th>weather_sunny</th>\n",
       "      <th>weather_windy</th>\n",
       "      <th>type_of_order_drinks</th>\n",
       "      <th>...</th>\n",
       "      <th>order_day_of_week_tuesday</th>\n",
       "      <th>order_day_of_week_wednesday</th>\n",
       "      <th>order_time_of_day_evening</th>\n",
       "      <th>order_time_of_day_morning</th>\n",
       "      <th>order_time_of_day_night</th>\n",
       "      <th>is_weekend_1</th>\n",
       "      <th>traffic</th>\n",
       "      <th>distance_type</th>\n",
       "      <th>vehicle_condition</th>\n",
       "      <th>multiple_deliveries</th>\n",
       "    </tr>\n",
       "  </thead>\n",
       "  <tbody>\n",
       "    <tr>\n",
       "      <th>8720</th>\n",
       "      <td>0.473684</td>\n",
       "      <td>0.56</td>\n",
       "      <td>1.0</td>\n",
       "      <td>0.404165</td>\n",
       "      <td>0.0</td>\n",
       "      <td>0.0</td>\n",
       "      <td>0.0</td>\n",
       "      <td>1.0</td>\n",
       "      <td>0.0</td>\n",
       "      <td>1.0</td>\n",
       "      <td>...</td>\n",
       "      <td>0.0</td>\n",
       "      <td>1.0</td>\n",
       "      <td>0.0</td>\n",
       "      <td>0.0</td>\n",
       "      <td>1.0</td>\n",
       "      <td>0.0</td>\n",
       "      <td>3.0</td>\n",
       "      <td>1.0</td>\n",
       "      <td>0</td>\n",
       "      <td>2.0</td>\n",
       "    </tr>\n",
       "    <tr>\n",
       "      <th>25245</th>\n",
       "      <td>1.000000</td>\n",
       "      <td>0.76</td>\n",
       "      <td>0.0</td>\n",
       "      <td>0.154044</td>\n",
       "      <td>0.0</td>\n",
       "      <td>1.0</td>\n",
       "      <td>0.0</td>\n",
       "      <td>0.0</td>\n",
       "      <td>0.0</td>\n",
       "      <td>0.0</td>\n",
       "      <td>...</td>\n",
       "      <td>0.0</td>\n",
       "      <td>0.0</td>\n",
       "      <td>0.0</td>\n",
       "      <td>0.0</td>\n",
       "      <td>0.0</td>\n",
       "      <td>1.0</td>\n",
       "      <td>1.0</td>\n",
       "      <td>0.0</td>\n",
       "      <td>0</td>\n",
       "      <td>1.0</td>\n",
       "    </tr>\n",
       "    <tr>\n",
       "      <th>34118</th>\n",
       "      <td>0.473684</td>\n",
       "      <td>0.80</td>\n",
       "      <td>0.5</td>\n",
       "      <td>0.002461</td>\n",
       "      <td>0.0</td>\n",
       "      <td>0.0</td>\n",
       "      <td>0.0</td>\n",
       "      <td>1.0</td>\n",
       "      <td>0.0</td>\n",
       "      <td>0.0</td>\n",
       "      <td>...</td>\n",
       "      <td>0.0</td>\n",
       "      <td>0.0</td>\n",
       "      <td>0.0</td>\n",
       "      <td>1.0</td>\n",
       "      <td>0.0</td>\n",
       "      <td>0.0</td>\n",
       "      <td>2.0</td>\n",
       "      <td>0.0</td>\n",
       "      <td>1</td>\n",
       "      <td>0.0</td>\n",
       "    </tr>\n",
       "    <tr>\n",
       "      <th>26036</th>\n",
       "      <td>1.000000</td>\n",
       "      <td>0.92</td>\n",
       "      <td>1.0</td>\n",
       "      <td>0.460411</td>\n",
       "      <td>0.0</td>\n",
       "      <td>1.0</td>\n",
       "      <td>0.0</td>\n",
       "      <td>0.0</td>\n",
       "      <td>0.0</td>\n",
       "      <td>0.0</td>\n",
       "      <td>...</td>\n",
       "      <td>0.0</td>\n",
       "      <td>0.0</td>\n",
       "      <td>0.0</td>\n",
       "      <td>0.0</td>\n",
       "      <td>1.0</td>\n",
       "      <td>1.0</td>\n",
       "      <td>0.0</td>\n",
       "      <td>2.0</td>\n",
       "      <td>0</td>\n",
       "      <td>1.0</td>\n",
       "    </tr>\n",
       "    <tr>\n",
       "      <th>37194</th>\n",
       "      <td>0.526316</td>\n",
       "      <td>0.76</td>\n",
       "      <td>0.5</td>\n",
       "      <td>0.243676</td>\n",
       "      <td>0.0</td>\n",
       "      <td>0.0</td>\n",
       "      <td>0.0</td>\n",
       "      <td>0.0</td>\n",
       "      <td>1.0</td>\n",
       "      <td>0.0</td>\n",
       "      <td>...</td>\n",
       "      <td>0.0</td>\n",
       "      <td>0.0</td>\n",
       "      <td>0.0</td>\n",
       "      <td>0.0</td>\n",
       "      <td>0.0</td>\n",
       "      <td>1.0</td>\n",
       "      <td>1.0</td>\n",
       "      <td>1.0</td>\n",
       "      <td>1</td>\n",
       "      <td>1.0</td>\n",
       "    </tr>\n",
       "  </tbody>\n",
       "</table>\n",
       "<p>5 rows × 54 columns</p>\n",
       "</div>"
      ],
      "text/plain": [
       "            age  ratings  pickup_time_minutes  distance  weather_fog  \\\n",
       "8720   0.473684     0.56                  1.0  0.404165          0.0   \n",
       "25245  1.000000     0.76                  0.0  0.154044          0.0   \n",
       "34118  0.473684     0.80                  0.5  0.002461          0.0   \n",
       "26036  1.000000     0.92                  1.0  0.460411          0.0   \n",
       "37194  0.526316     0.76                  0.5  0.243676          0.0   \n",
       "\n",
       "       weather_sandstorms  weather_stormy  weather_sunny  weather_windy  \\\n",
       "8720                  0.0             0.0            1.0            0.0   \n",
       "25245                 1.0             0.0            0.0            0.0   \n",
       "34118                 0.0             0.0            1.0            0.0   \n",
       "26036                 1.0             0.0            0.0            0.0   \n",
       "37194                 0.0             0.0            0.0            1.0   \n",
       "\n",
       "       type_of_order_drinks  ...  order_day_of_week_tuesday  \\\n",
       "8720                    1.0  ...                        0.0   \n",
       "25245                   0.0  ...                        0.0   \n",
       "34118                   0.0  ...                        0.0   \n",
       "26036                   0.0  ...                        0.0   \n",
       "37194                   0.0  ...                        0.0   \n",
       "\n",
       "       order_day_of_week_wednesday  order_time_of_day_evening  \\\n",
       "8720                           1.0                        0.0   \n",
       "25245                          0.0                        0.0   \n",
       "34118                          0.0                        0.0   \n",
       "26036                          0.0                        0.0   \n",
       "37194                          0.0                        0.0   \n",
       "\n",
       "       order_time_of_day_morning  order_time_of_day_night  is_weekend_1  \\\n",
       "8720                         0.0                      1.0           0.0   \n",
       "25245                        0.0                      0.0           1.0   \n",
       "34118                        1.0                      0.0           0.0   \n",
       "26036                        0.0                      1.0           1.0   \n",
       "37194                        0.0                      0.0           1.0   \n",
       "\n",
       "       traffic  distance_type  vehicle_condition  multiple_deliveries  \n",
       "8720       3.0            1.0                  0                  2.0  \n",
       "25245      1.0            0.0                  0                  1.0  \n",
       "34118      2.0            0.0                  1                  0.0  \n",
       "26036      0.0            2.0                  0                  1.0  \n",
       "37194      1.0            1.0                  1                  1.0  \n",
       "\n",
       "[5 rows x 54 columns]"
      ]
     },
     "execution_count": 23,
     "metadata": {},
     "output_type": "execute_result"
    }
   ],
   "source": [
    "xtrain_transform.head()"
   ]
  },
  {
   "cell_type": "code",
   "execution_count": 24,
   "id": "39e96f5f",
   "metadata": {},
   "outputs": [],
   "source": [
    "# yeo=johnson transfor in label\n",
    "from sklearn.preprocessing import PowerTransformer\n",
    "\n",
    "pt = PowerTransformer()\n",
    "\n",
    "y_train_transformed = pt.fit_transform(ytrain.values.reshape(-1, 1))\n",
    "y_test_transformed = pt.transform(ytest.values.reshape(-1, 1))"
   ]
  },
  {
   "cell_type": "code",
   "execution_count": 25,
   "id": "77e56727",
   "metadata": {},
   "outputs": [
    {
     "data": {
      "text/html": [
       "<div>\n",
       "<style scoped>\n",
       "    .dataframe tbody tr th:only-of-type {\n",
       "        vertical-align: middle;\n",
       "    }\n",
       "\n",
       "    .dataframe tbody tr th {\n",
       "        vertical-align: top;\n",
       "    }\n",
       "\n",
       "    .dataframe thead th {\n",
       "        text-align: right;\n",
       "    }\n",
       "</style>\n",
       "<table border=\"1\" class=\"dataframe\">\n",
       "  <thead>\n",
       "    <tr style=\"text-align: right;\">\n",
       "      <th></th>\n",
       "      <th>x0</th>\n",
       "    </tr>\n",
       "  </thead>\n",
       "  <tbody>\n",
       "    <tr>\n",
       "      <th>0</th>\n",
       "      <td>2.028672</td>\n",
       "    </tr>\n",
       "    <tr>\n",
       "      <th>1</th>\n",
       "      <td>0.554539</td>\n",
       "    </tr>\n",
       "    <tr>\n",
       "      <th>2</th>\n",
       "      <td>-2.024267</td>\n",
       "    </tr>\n",
       "    <tr>\n",
       "      <th>3</th>\n",
       "      <td>-0.173699</td>\n",
       "    </tr>\n",
       "    <tr>\n",
       "      <th>4</th>\n",
       "      <td>0.554539</td>\n",
       "    </tr>\n",
       "    <tr>\n",
       "      <th>...</th>\n",
       "      <td>...</td>\n",
       "    </tr>\n",
       "    <tr>\n",
       "      <th>30151</th>\n",
       "      <td>0.457580</td>\n",
       "    </tr>\n",
       "    <tr>\n",
       "      <th>30152</th>\n",
       "      <td>-0.173699</td>\n",
       "    </tr>\n",
       "    <tr>\n",
       "      <th>30153</th>\n",
       "      <td>-1.350937</td>\n",
       "    </tr>\n",
       "    <tr>\n",
       "      <th>30154</th>\n",
       "      <td>0.047111</td>\n",
       "    </tr>\n",
       "    <tr>\n",
       "      <th>30155</th>\n",
       "      <td>0.257130</td>\n",
       "    </tr>\n",
       "  </tbody>\n",
       "</table>\n",
       "<p>30156 rows × 1 columns</p>\n",
       "</div>"
      ],
      "text/plain": [
       "             x0\n",
       "0      2.028672\n",
       "1      0.554539\n",
       "2     -2.024267\n",
       "3     -0.173699\n",
       "4      0.554539\n",
       "...         ...\n",
       "30151  0.457580\n",
       "30152 -0.173699\n",
       "30153 -1.350937\n",
       "30154  0.047111\n",
       "30155  0.257130\n",
       "\n",
       "[30156 rows x 1 columns]"
      ]
     },
     "execution_count": 25,
     "metadata": {},
     "output_type": "execute_result"
    }
   ],
   "source": [
    "y_train_transformed"
   ]
  },
  {
   "cell_type": "code",
   "execution_count": 26,
   "id": "04bb8e2a",
   "metadata": {},
   "outputs": [
    {
     "data": {
      "text/plain": [
       "array([0.32446096])"
      ]
     },
     "execution_count": 26,
     "metadata": {},
     "output_type": "execute_result"
    }
   ],
   "source": [
    "pt.lambdas_"
   ]
  },
  {
   "cell_type": "markdown",
   "id": "fc2b079f",
   "metadata": {},
   "source": [
    "# Model I -- baseline model\n"
   ]
  },
  {
   "cell_type": "code",
   "execution_count": 27,
   "id": "ea763c8f",
   "metadata": {},
   "outputs": [
    {
     "data": {
      "text/html": [
       "<style>#sk-container-id-2 {\n",
       "  /* Definition of color scheme common for light and dark mode */\n",
       "  --sklearn-color-text: black;\n",
       "  --sklearn-color-line: gray;\n",
       "  /* Definition of color scheme for unfitted estimators */\n",
       "  --sklearn-color-unfitted-level-0: #fff5e6;\n",
       "  --sklearn-color-unfitted-level-1: #f6e4d2;\n",
       "  --sklearn-color-unfitted-level-2: #ffe0b3;\n",
       "  --sklearn-color-unfitted-level-3: chocolate;\n",
       "  /* Definition of color scheme for fitted estimators */\n",
       "  --sklearn-color-fitted-level-0: #f0f8ff;\n",
       "  --sklearn-color-fitted-level-1: #d4ebff;\n",
       "  --sklearn-color-fitted-level-2: #b3dbfd;\n",
       "  --sklearn-color-fitted-level-3: cornflowerblue;\n",
       "\n",
       "  /* Specific color for light theme */\n",
       "  --sklearn-color-text-on-default-background: var(--sg-text-color, var(--theme-code-foreground, var(--jp-content-font-color1, black)));\n",
       "  --sklearn-color-background: var(--sg-background-color, var(--theme-background, var(--jp-layout-color0, white)));\n",
       "  --sklearn-color-border-box: var(--sg-text-color, var(--theme-code-foreground, var(--jp-content-font-color1, black)));\n",
       "  --sklearn-color-icon: #696969;\n",
       "\n",
       "  @media (prefers-color-scheme: dark) {\n",
       "    /* Redefinition of color scheme for dark theme */\n",
       "    --sklearn-color-text-on-default-background: var(--sg-text-color, var(--theme-code-foreground, var(--jp-content-font-color1, white)));\n",
       "    --sklearn-color-background: var(--sg-background-color, var(--theme-background, var(--jp-layout-color0, #111)));\n",
       "    --sklearn-color-border-box: var(--sg-text-color, var(--theme-code-foreground, var(--jp-content-font-color1, white)));\n",
       "    --sklearn-color-icon: #878787;\n",
       "  }\n",
       "}\n",
       "\n",
       "#sk-container-id-2 {\n",
       "  color: var(--sklearn-color-text);\n",
       "}\n",
       "\n",
       "#sk-container-id-2 pre {\n",
       "  padding: 0;\n",
       "}\n",
       "\n",
       "#sk-container-id-2 input.sk-hidden--visually {\n",
       "  border: 0;\n",
       "  clip: rect(1px 1px 1px 1px);\n",
       "  clip: rect(1px, 1px, 1px, 1px);\n",
       "  height: 1px;\n",
       "  margin: -1px;\n",
       "  overflow: hidden;\n",
       "  padding: 0;\n",
       "  position: absolute;\n",
       "  width: 1px;\n",
       "}\n",
       "\n",
       "#sk-container-id-2 div.sk-dashed-wrapped {\n",
       "  border: 1px dashed var(--sklearn-color-line);\n",
       "  margin: 0 0.4em 0.5em 0.4em;\n",
       "  box-sizing: border-box;\n",
       "  padding-bottom: 0.4em;\n",
       "  background-color: var(--sklearn-color-background);\n",
       "}\n",
       "\n",
       "#sk-container-id-2 div.sk-container {\n",
       "  /* jupyter's `normalize.less` sets `[hidden] { display: none; }`\n",
       "     but bootstrap.min.css set `[hidden] { display: none !important; }`\n",
       "     so we also need the `!important` here to be able to override the\n",
       "     default hidden behavior on the sphinx rendered scikit-learn.org.\n",
       "     See: https://github.com/scikit-learn/scikit-learn/issues/21755 */\n",
       "  display: inline-block !important;\n",
       "  position: relative;\n",
       "}\n",
       "\n",
       "#sk-container-id-2 div.sk-text-repr-fallback {\n",
       "  display: none;\n",
       "}\n",
       "\n",
       "div.sk-parallel-item,\n",
       "div.sk-serial,\n",
       "div.sk-item {\n",
       "  /* draw centered vertical line to link estimators */\n",
       "  background-image: linear-gradient(var(--sklearn-color-text-on-default-background), var(--sklearn-color-text-on-default-background));\n",
       "  background-size: 2px 100%;\n",
       "  background-repeat: no-repeat;\n",
       "  background-position: center center;\n",
       "}\n",
       "\n",
       "/* Parallel-specific style estimator block */\n",
       "\n",
       "#sk-container-id-2 div.sk-parallel-item::after {\n",
       "  content: \"\";\n",
       "  width: 100%;\n",
       "  border-bottom: 2px solid var(--sklearn-color-text-on-default-background);\n",
       "  flex-grow: 1;\n",
       "}\n",
       "\n",
       "#sk-container-id-2 div.sk-parallel {\n",
       "  display: flex;\n",
       "  align-items: stretch;\n",
       "  justify-content: center;\n",
       "  background-color: var(--sklearn-color-background);\n",
       "  position: relative;\n",
       "}\n",
       "\n",
       "#sk-container-id-2 div.sk-parallel-item {\n",
       "  display: flex;\n",
       "  flex-direction: column;\n",
       "}\n",
       "\n",
       "#sk-container-id-2 div.sk-parallel-item:first-child::after {\n",
       "  align-self: flex-end;\n",
       "  width: 50%;\n",
       "}\n",
       "\n",
       "#sk-container-id-2 div.sk-parallel-item:last-child::after {\n",
       "  align-self: flex-start;\n",
       "  width: 50%;\n",
       "}\n",
       "\n",
       "#sk-container-id-2 div.sk-parallel-item:only-child::after {\n",
       "  width: 0;\n",
       "}\n",
       "\n",
       "/* Serial-specific style estimator block */\n",
       "\n",
       "#sk-container-id-2 div.sk-serial {\n",
       "  display: flex;\n",
       "  flex-direction: column;\n",
       "  align-items: center;\n",
       "  background-color: var(--sklearn-color-background);\n",
       "  padding-right: 1em;\n",
       "  padding-left: 1em;\n",
       "}\n",
       "\n",
       "\n",
       "/* Toggleable style: style used for estimator/Pipeline/ColumnTransformer box that is\n",
       "clickable and can be expanded/collapsed.\n",
       "- Pipeline and ColumnTransformer use this feature and define the default style\n",
       "- Estimators will overwrite some part of the style using the `sk-estimator` class\n",
       "*/\n",
       "\n",
       "/* Pipeline and ColumnTransformer style (default) */\n",
       "\n",
       "#sk-container-id-2 div.sk-toggleable {\n",
       "  /* Default theme specific background. It is overwritten whether we have a\n",
       "  specific estimator or a Pipeline/ColumnTransformer */\n",
       "  background-color: var(--sklearn-color-background);\n",
       "}\n",
       "\n",
       "/* Toggleable label */\n",
       "#sk-container-id-2 label.sk-toggleable__label {\n",
       "  cursor: pointer;\n",
       "  display: block;\n",
       "  width: 100%;\n",
       "  margin-bottom: 0;\n",
       "  padding: 0.5em;\n",
       "  box-sizing: border-box;\n",
       "  text-align: center;\n",
       "}\n",
       "\n",
       "#sk-container-id-2 label.sk-toggleable__label-arrow:before {\n",
       "  /* Arrow on the left of the label */\n",
       "  content: \"▸\";\n",
       "  float: left;\n",
       "  margin-right: 0.25em;\n",
       "  color: var(--sklearn-color-icon);\n",
       "}\n",
       "\n",
       "#sk-container-id-2 label.sk-toggleable__label-arrow:hover:before {\n",
       "  color: var(--sklearn-color-text);\n",
       "}\n",
       "\n",
       "/* Toggleable content - dropdown */\n",
       "\n",
       "#sk-container-id-2 div.sk-toggleable__content {\n",
       "  max-height: 0;\n",
       "  max-width: 0;\n",
       "  overflow: hidden;\n",
       "  text-align: left;\n",
       "  /* unfitted */\n",
       "  background-color: var(--sklearn-color-unfitted-level-0);\n",
       "}\n",
       "\n",
       "#sk-container-id-2 div.sk-toggleable__content.fitted {\n",
       "  /* fitted */\n",
       "  background-color: var(--sklearn-color-fitted-level-0);\n",
       "}\n",
       "\n",
       "#sk-container-id-2 div.sk-toggleable__content pre {\n",
       "  margin: 0.2em;\n",
       "  border-radius: 0.25em;\n",
       "  color: var(--sklearn-color-text);\n",
       "  /* unfitted */\n",
       "  background-color: var(--sklearn-color-unfitted-level-0);\n",
       "}\n",
       "\n",
       "#sk-container-id-2 div.sk-toggleable__content.fitted pre {\n",
       "  /* unfitted */\n",
       "  background-color: var(--sklearn-color-fitted-level-0);\n",
       "}\n",
       "\n",
       "#sk-container-id-2 input.sk-toggleable__control:checked~div.sk-toggleable__content {\n",
       "  /* Expand drop-down */\n",
       "  max-height: 200px;\n",
       "  max-width: 100%;\n",
       "  overflow: auto;\n",
       "}\n",
       "\n",
       "#sk-container-id-2 input.sk-toggleable__control:checked~label.sk-toggleable__label-arrow:before {\n",
       "  content: \"▾\";\n",
       "}\n",
       "\n",
       "/* Pipeline/ColumnTransformer-specific style */\n",
       "\n",
       "#sk-container-id-2 div.sk-label input.sk-toggleable__control:checked~label.sk-toggleable__label {\n",
       "  color: var(--sklearn-color-text);\n",
       "  background-color: var(--sklearn-color-unfitted-level-2);\n",
       "}\n",
       "\n",
       "#sk-container-id-2 div.sk-label.fitted input.sk-toggleable__control:checked~label.sk-toggleable__label {\n",
       "  background-color: var(--sklearn-color-fitted-level-2);\n",
       "}\n",
       "\n",
       "/* Estimator-specific style */\n",
       "\n",
       "/* Colorize estimator box */\n",
       "#sk-container-id-2 div.sk-estimator input.sk-toggleable__control:checked~label.sk-toggleable__label {\n",
       "  /* unfitted */\n",
       "  background-color: var(--sklearn-color-unfitted-level-2);\n",
       "}\n",
       "\n",
       "#sk-container-id-2 div.sk-estimator.fitted input.sk-toggleable__control:checked~label.sk-toggleable__label {\n",
       "  /* fitted */\n",
       "  background-color: var(--sklearn-color-fitted-level-2);\n",
       "}\n",
       "\n",
       "#sk-container-id-2 div.sk-label label.sk-toggleable__label,\n",
       "#sk-container-id-2 div.sk-label label {\n",
       "  /* The background is the default theme color */\n",
       "  color: var(--sklearn-color-text-on-default-background);\n",
       "}\n",
       "\n",
       "/* On hover, darken the color of the background */\n",
       "#sk-container-id-2 div.sk-label:hover label.sk-toggleable__label {\n",
       "  color: var(--sklearn-color-text);\n",
       "  background-color: var(--sklearn-color-unfitted-level-2);\n",
       "}\n",
       "\n",
       "/* Label box, darken color on hover, fitted */\n",
       "#sk-container-id-2 div.sk-label.fitted:hover label.sk-toggleable__label.fitted {\n",
       "  color: var(--sklearn-color-text);\n",
       "  background-color: var(--sklearn-color-fitted-level-2);\n",
       "}\n",
       "\n",
       "/* Estimator label */\n",
       "\n",
       "#sk-container-id-2 div.sk-label label {\n",
       "  font-family: monospace;\n",
       "  font-weight: bold;\n",
       "  display: inline-block;\n",
       "  line-height: 1.2em;\n",
       "}\n",
       "\n",
       "#sk-container-id-2 div.sk-label-container {\n",
       "  text-align: center;\n",
       "}\n",
       "\n",
       "/* Estimator-specific */\n",
       "#sk-container-id-2 div.sk-estimator {\n",
       "  font-family: monospace;\n",
       "  border: 1px dotted var(--sklearn-color-border-box);\n",
       "  border-radius: 0.25em;\n",
       "  box-sizing: border-box;\n",
       "  margin-bottom: 0.5em;\n",
       "  /* unfitted */\n",
       "  background-color: var(--sklearn-color-unfitted-level-0);\n",
       "}\n",
       "\n",
       "#sk-container-id-2 div.sk-estimator.fitted {\n",
       "  /* fitted */\n",
       "  background-color: var(--sklearn-color-fitted-level-0);\n",
       "}\n",
       "\n",
       "/* on hover */\n",
       "#sk-container-id-2 div.sk-estimator:hover {\n",
       "  /* unfitted */\n",
       "  background-color: var(--sklearn-color-unfitted-level-2);\n",
       "}\n",
       "\n",
       "#sk-container-id-2 div.sk-estimator.fitted:hover {\n",
       "  /* fitted */\n",
       "  background-color: var(--sklearn-color-fitted-level-2);\n",
       "}\n",
       "\n",
       "/* Specification for estimator info (e.g. \"i\" and \"?\") */\n",
       "\n",
       "/* Common style for \"i\" and \"?\" */\n",
       "\n",
       ".sk-estimator-doc-link,\n",
       "a:link.sk-estimator-doc-link,\n",
       "a:visited.sk-estimator-doc-link {\n",
       "  float: right;\n",
       "  font-size: smaller;\n",
       "  line-height: 1em;\n",
       "  font-family: monospace;\n",
       "  background-color: var(--sklearn-color-background);\n",
       "  border-radius: 1em;\n",
       "  height: 1em;\n",
       "  width: 1em;\n",
       "  text-decoration: none !important;\n",
       "  margin-left: 1ex;\n",
       "  /* unfitted */\n",
       "  border: var(--sklearn-color-unfitted-level-1) 1pt solid;\n",
       "  color: var(--sklearn-color-unfitted-level-1);\n",
       "}\n",
       "\n",
       ".sk-estimator-doc-link.fitted,\n",
       "a:link.sk-estimator-doc-link.fitted,\n",
       "a:visited.sk-estimator-doc-link.fitted {\n",
       "  /* fitted */\n",
       "  border: var(--sklearn-color-fitted-level-1) 1pt solid;\n",
       "  color: var(--sklearn-color-fitted-level-1);\n",
       "}\n",
       "\n",
       "/* On hover */\n",
       "div.sk-estimator:hover .sk-estimator-doc-link:hover,\n",
       ".sk-estimator-doc-link:hover,\n",
       "div.sk-label-container:hover .sk-estimator-doc-link:hover,\n",
       ".sk-estimator-doc-link:hover {\n",
       "  /* unfitted */\n",
       "  background-color: var(--sklearn-color-unfitted-level-3);\n",
       "  color: var(--sklearn-color-background);\n",
       "  text-decoration: none;\n",
       "}\n",
       "\n",
       "div.sk-estimator.fitted:hover .sk-estimator-doc-link.fitted:hover,\n",
       ".sk-estimator-doc-link.fitted:hover,\n",
       "div.sk-label-container:hover .sk-estimator-doc-link.fitted:hover,\n",
       ".sk-estimator-doc-link.fitted:hover {\n",
       "  /* fitted */\n",
       "  background-color: var(--sklearn-color-fitted-level-3);\n",
       "  color: var(--sklearn-color-background);\n",
       "  text-decoration: none;\n",
       "}\n",
       "\n",
       "/* Span, style for the box shown on hovering the info icon */\n",
       ".sk-estimator-doc-link span {\n",
       "  display: none;\n",
       "  z-index: 9999;\n",
       "  position: relative;\n",
       "  font-weight: normal;\n",
       "  right: .2ex;\n",
       "  padding: .5ex;\n",
       "  margin: .5ex;\n",
       "  width: min-content;\n",
       "  min-width: 20ex;\n",
       "  max-width: 50ex;\n",
       "  color: var(--sklearn-color-text);\n",
       "  box-shadow: 2pt 2pt 4pt #999;\n",
       "  /* unfitted */\n",
       "  background: var(--sklearn-color-unfitted-level-0);\n",
       "  border: .5pt solid var(--sklearn-color-unfitted-level-3);\n",
       "}\n",
       "\n",
       ".sk-estimator-doc-link.fitted span {\n",
       "  /* fitted */\n",
       "  background: var(--sklearn-color-fitted-level-0);\n",
       "  border: var(--sklearn-color-fitted-level-3);\n",
       "}\n",
       "\n",
       ".sk-estimator-doc-link:hover span {\n",
       "  display: block;\n",
       "}\n",
       "\n",
       "/* \"?\"-specific style due to the `<a>` HTML tag */\n",
       "\n",
       "#sk-container-id-2 a.estimator_doc_link {\n",
       "  float: right;\n",
       "  font-size: 1rem;\n",
       "  line-height: 1em;\n",
       "  font-family: monospace;\n",
       "  background-color: var(--sklearn-color-background);\n",
       "  border-radius: 1rem;\n",
       "  height: 1rem;\n",
       "  width: 1rem;\n",
       "  text-decoration: none;\n",
       "  /* unfitted */\n",
       "  color: var(--sklearn-color-unfitted-level-1);\n",
       "  border: var(--sklearn-color-unfitted-level-1) 1pt solid;\n",
       "}\n",
       "\n",
       "#sk-container-id-2 a.estimator_doc_link.fitted {\n",
       "  /* fitted */\n",
       "  border: var(--sklearn-color-fitted-level-1) 1pt solid;\n",
       "  color: var(--sklearn-color-fitted-level-1);\n",
       "}\n",
       "\n",
       "/* On hover */\n",
       "#sk-container-id-2 a.estimator_doc_link:hover {\n",
       "  /* unfitted */\n",
       "  background-color: var(--sklearn-color-unfitted-level-3);\n",
       "  color: var(--sklearn-color-background);\n",
       "  text-decoration: none;\n",
       "}\n",
       "\n",
       "#sk-container-id-2 a.estimator_doc_link.fitted:hover {\n",
       "  /* fitted */\n",
       "  background-color: var(--sklearn-color-fitted-level-3);\n",
       "}\n",
       "</style><div id=\"sk-container-id-2\" class=\"sk-top-container\"><div class=\"sk-text-repr-fallback\"><pre>LinearRegression()</pre><b>In a Jupyter environment, please rerun this cell to show the HTML representation or trust the notebook. <br />On GitHub, the HTML representation is unable to render, please try loading this page with nbviewer.org.</b></div><div class=\"sk-container\" hidden><div class=\"sk-item\"><div class=\"sk-estimator fitted sk-toggleable\"><input class=\"sk-toggleable__control sk-hidden--visually\" id=\"sk-estimator-id-10\" type=\"checkbox\" checked><label for=\"sk-estimator-id-10\" class=\"sk-toggleable__label fitted sk-toggleable__label-arrow fitted\">&nbsp;&nbsp;LinearRegression<a class=\"sk-estimator-doc-link fitted\" rel=\"noreferrer\" target=\"_blank\" href=\"https://scikit-learn.org/1.5/modules/generated/sklearn.linear_model.LinearRegression.html\">?<span>Documentation for LinearRegression</span></a><span class=\"sk-estimator-doc-link fitted\">i<span>Fitted</span></span></label><div class=\"sk-toggleable__content fitted\"><pre>LinearRegression()</pre></div> </div></div></div></div>"
      ],
      "text/plain": [
       "LinearRegression()"
      ]
     },
     "execution_count": 27,
     "metadata": {},
     "output_type": "execute_result"
    }
   ],
   "source": [
    "from sklearn.linear_model import LinearRegression\n",
    "\n",
    "lr = LinearRegression()\n",
    "lr.fit(xtrain_transform, y_train_transformed)"
   ]
  },
  {
   "cell_type": "code",
   "execution_count": 28,
   "id": "ffc7c789",
   "metadata": {},
   "outputs": [
    {
     "name": "stdout",
     "output_type": "stream",
     "text": [
      "mae_transformed_yoe : 0.5154786687507606\n",
      "original-ytest : 4.684188706200984\n"
     ]
    }
   ],
   "source": [
    "transformed_res = lr.predict(xtest_transform)\n",
    "print(\"mae_transformed_yoe :\", mean_absolute_error(y_test_transformed, transformed_res))\n",
    "lr1 = LinearRegression()\n",
    "lr1.fit(xtrain_transform, ytrain)\n",
    "original_pred = lr1.predict(xtest_transform)\n",
    "print(\"original-ytest :\", mean_absolute_error(ytest, original_pred))"
   ]
  },
  {
   "cell_type": "code",
   "execution_count": 29,
   "id": "76fcaa37",
   "metadata": {},
   "outputs": [
    {
     "data": {
      "text/plain": [
       "array([[ 0.16426446],\n",
       "       [ 0.48287179],\n",
       "       [ 0.58686043],\n",
       "       ...,\n",
       "       [ 0.70188119],\n",
       "       [ 0.07723214],\n",
       "       [-0.66821693]])"
      ]
     },
     "execution_count": 29,
     "metadata": {},
     "output_type": "execute_result"
    }
   ],
   "source": [
    "transformed_res"
   ]
  },
  {
   "cell_type": "code",
   "execution_count": 30,
   "id": "faa6404e",
   "metadata": {},
   "outputs": [],
   "source": [
    "y_pred_test_inverse = pt.inverse_transform(transformed_res.reshape(-1, 1))"
   ]
  },
  {
   "cell_type": "code",
   "execution_count": 31,
   "id": "fa18d442",
   "metadata": {},
   "outputs": [
    {
     "data": {
      "text/plain": [
       "array([[27.10373511],\n",
       "       [30.25878684],\n",
       "       [31.3381296 ],\n",
       "       ...,\n",
       "       [32.56099252],\n",
       "       [26.28093231],\n",
       "       [19.88873853]])"
      ]
     },
     "execution_count": 31,
     "metadata": {},
     "output_type": "execute_result"
    }
   ],
   "source": [
    "y_pred_test_inverse"
   ]
  },
  {
   "cell_type": "markdown",
   "id": "8e10f91d",
   "metadata": {},
   "source": [
    "### Train error and test error\n"
   ]
  },
  {
   "cell_type": "code",
   "execution_count": 32,
   "id": "2e387507",
   "metadata": {},
   "outputs": [
    {
     "name": "stdout",
     "output_type": "stream",
     "text": [
      "MAE: Train error:  4.7050241534221415\n",
      "MAE: Test error:  4.689894700994873\n"
     ]
    }
   ],
   "source": [
    "ytrain_pred = pt.inverse_transform(lr.predict(xtrain_transform).reshape(-1, 1))\n",
    "ytest_pred = pt.inverse_transform(lr.predict(xtest_transform).reshape(-1, 1))\n",
    "print(\"MAE: Train error: \", mean_absolute_error(ytrain, ytrain_pred))\n",
    "print(\"MAE: Test error: \", mean_absolute_error(ytest, ytest_pred))"
   ]
  },
  {
   "cell_type": "code",
   "execution_count": 33,
   "id": "e11a2c63",
   "metadata": {},
   "outputs": [
    {
     "name": "stdout",
     "output_type": "stream",
     "text": [
      "r2: Train score:  0.6009446783414196\n",
      "r2: Test score:  0.596774227957171\n"
     ]
    }
   ],
   "source": [
    "print(\"r2: Train score: \", r2_score(ytrain, ytrain_pred))\n",
    "print(\"r2: Test score: \", r2_score(ytest, ytest_pred))"
   ]
  },
  {
   "cell_type": "markdown",
   "id": "fcf89b06",
   "metadata": {},
   "source": [
    "## Impute Missing value\n"
   ]
  },
  {
   "cell_type": "code",
   "execution_count": 34,
   "id": "145c95fc",
   "metadata": {},
   "outputs": [],
   "source": [
    "temp_df = df.copy(deep=True)"
   ]
  },
  {
   "cell_type": "code",
   "execution_count": 35,
   "id": "8b3ab869",
   "metadata": {},
   "outputs": [],
   "source": [
    "X = temp_df.drop(columns=\"time_taken\")\n",
    "y = temp_df[\"time_taken\"]\n",
    "\n",
    "xtrain, xtest, ytrain, ytest = train_test_split(X, y, test_size=0.2, random_state=42)"
   ]
  },
  {
   "cell_type": "code",
   "execution_count": 36,
   "id": "ab539380",
   "metadata": {},
   "outputs": [
    {
     "data": {
      "text/plain": [
       "((36401, 18), (9101, 18), 45502, (45502, 19))"
      ]
     },
     "execution_count": 36,
     "metadata": {},
     "output_type": "execute_result"
    }
   ],
   "source": [
    "xtrain.shape, xtest.shape, xtrain.shape[0] + xtest.shape[0], temp_df.shape"
   ]
  },
  {
   "cell_type": "code",
   "execution_count": 37,
   "id": "363332cd",
   "metadata": {},
   "outputs": [
    {
     "data": {
      "text/plain": [
       "14565"
      ]
     },
     "execution_count": 37,
     "metadata": {},
     "output_type": "execute_result"
    }
   ],
   "source": [
    "xtrain.isna().sum().sum()"
   ]
  },
  {
   "cell_type": "code",
   "execution_count": 38,
   "id": "88a6f3f8",
   "metadata": {},
   "outputs": [
    {
     "data": {
      "text/plain": [
       "3621"
      ]
     },
     "execution_count": 38,
     "metadata": {},
     "output_type": "execute_result"
    }
   ],
   "source": [
    "xtest.isna().sum().sum()"
   ]
  },
  {
   "cell_type": "code",
   "execution_count": 39,
   "id": "875d3043",
   "metadata": {},
   "outputs": [],
   "source": [
    "pt = PowerTransformer()\n",
    "\n",
    "y_train_transformed = pt.fit_transform(ytrain.values.reshape(-1, 1))\n",
    "\n",
    "y_test_transformed = pt.transform(ytest.values.reshape(-1, 1))"
   ]
  },
  {
   "cell_type": "code",
   "execution_count": 40,
   "id": "4d156468",
   "metadata": {},
   "outputs": [
    {
     "data": {
      "text/plain": [
       "array([[19],\n",
       "       [20],\n",
       "       [29],\n",
       "       ...,\n",
       "       [33],\n",
       "       [29],\n",
       "       [30]])"
      ]
     },
     "execution_count": 40,
     "metadata": {},
     "output_type": "execute_result"
    }
   ],
   "source": [
    "ytrain.values.reshape(-1, 1)"
   ]
  },
  {
   "cell_type": "code",
   "execution_count": 41,
   "id": "330ca2ef",
   "metadata": {},
   "outputs": [
    {
     "data": {
      "text/plain": [
       "Index(['age', 'ratings', 'weather', 'traffic', 'multiple_deliveries',\n",
       "       'festival', 'city_type', 'pickup_time_minutes', 'order_time_of_day',\n",
       "       'distance', 'distance_type'],\n",
       "      dtype='object')"
      ]
     },
     "execution_count": 41,
     "metadata": {},
     "output_type": "execute_result"
    }
   ],
   "source": [
    "missing_cols"
   ]
  },
  {
   "cell_type": "code",
   "execution_count": 42,
   "id": "053dadbc",
   "metadata": {},
   "outputs": [
    {
     "data": {
      "text/plain": [
       "0.17"
      ]
     },
     "execution_count": 42,
     "metadata": {},
     "output_type": "execute_result"
    }
   ],
   "source": [
    "xtrain.isna().any(axis=1).mean().round(2)"
   ]
  },
  {
   "cell_type": "code",
   "execution_count": 43,
   "id": "d669e4ed",
   "metadata": {},
   "outputs": [
    {
     "data": {
      "text/plain": [
       "11047    False\n",
       "15692    False\n",
       "14499     True\n",
       "29258    False\n",
       "22554    False\n",
       "         ...  \n",
       "11303    False\n",
       "44821    False\n",
       "38234     True\n",
       "860      False\n",
       "15822    False\n",
       "Length: 36401, dtype: bool"
      ]
     },
     "execution_count": 43,
     "metadata": {},
     "output_type": "execute_result"
    }
   ],
   "source": [
    "xtrain.isna().any(axis=1)"
   ]
  },
  {
   "cell_type": "markdown",
   "id": "b56ddfee",
   "metadata": {},
   "source": [
    "## Age\n"
   ]
  },
  {
   "cell_type": "code",
   "execution_count": 44,
   "id": "72140b1d",
   "metadata": {},
   "outputs": [
    {
     "data": {
      "text/plain": [
       "count    34931.000000\n",
       "mean        29.569551\n",
       "std          5.752869\n",
       "min         20.000000\n",
       "25%         25.000000\n",
       "50%         30.000000\n",
       "75%         35.000000\n",
       "max         39.000000\n",
       "Name: age, dtype: float64"
      ]
     },
     "execution_count": 44,
     "metadata": {},
     "output_type": "execute_result"
    }
   ],
   "source": [
    "xtrain.age.describe()"
   ]
  },
  {
   "cell_type": "code",
   "execution_count": 45,
   "id": "20b5e6da",
   "metadata": {},
   "outputs": [
    {
     "data": {
      "text/plain": [
       "1470"
      ]
     },
     "execution_count": 45,
     "metadata": {},
     "output_type": "execute_result"
    }
   ],
   "source": [
    "xtrain.age.isna().sum()"
   ]
  },
  {
   "cell_type": "code",
   "execution_count": 46,
   "id": "b39724fc",
   "metadata": {},
   "outputs": [
    {
     "data": {
      "text/plain": [
       "30.0"
      ]
     },
     "execution_count": 46,
     "metadata": {},
     "output_type": "execute_result"
    }
   ],
   "source": [
    "age_median = xtrain.age.median()\n",
    "age_median"
   ]
  },
  {
   "cell_type": "code",
   "execution_count": 47,
   "id": "215b764e",
   "metadata": {},
   "outputs": [
    {
     "data": {
      "text/plain": [
       "<matplotlib.legend.Legend at 0x17d3d36b0>"
      ]
     },
     "execution_count": 47,
     "metadata": {},
     "output_type": "execute_result"
    },
    {
     "data": {
      "image/png": "[encoded data removed]",
      "text/plain": [
       "<Figure size 640x480 with 1 Axes>"
      ]
     },
     "metadata": {},
     "output_type": "display_data"
    }
   ],
   "source": [
    "sns.kdeplot(xtrain[\"age\"], label=\"original\")\n",
    "sns.kdeplot(xtrain[\"age\"].fillna(age_median), label=\"imputed\")\n",
    "plt.legend()"
   ]
  },
  {
   "cell_type": "markdown",
   "id": "07885374",
   "metadata": {},
   "source": [
    "distribution changed and peak appeared at age 30\n",
    "\n",
    "- so advance method should be tried(knn imputer)\n"
   ]
  },
  {
   "cell_type": "markdown",
   "id": "0a0c30dd",
   "metadata": {},
   "source": [
    "## Rating\n"
   ]
  },
  {
   "cell_type": "code",
   "execution_count": 48,
   "id": "0d033c23",
   "metadata": {},
   "outputs": [
    {
     "data": {
      "text/plain": [
       "count    34891.000000\n",
       "mean         4.635058\n",
       "std          0.314049\n",
       "min          2.500000\n",
       "25%          4.500000\n",
       "50%          4.700000\n",
       "75%          4.900000\n",
       "max          5.000000\n",
       "Name: ratings, dtype: float64"
      ]
     },
     "execution_count": 48,
     "metadata": {},
     "output_type": "execute_result"
    }
   ],
   "source": [
    "xtrain[\"ratings\"].describe()"
   ]
  },
  {
   "cell_type": "code",
   "execution_count": 49,
   "id": "0b0e0558",
   "metadata": {},
   "outputs": [
    {
     "data": {
      "text/plain": [
       "(4.7, 1510)"
      ]
     },
     "execution_count": 49,
     "metadata": {},
     "output_type": "execute_result"
    }
   ],
   "source": [
    "rating_median = xtrain[\"ratings\"].median()\n",
    "rating_median, xtrain.ratings.isna().sum()"
   ]
  },
  {
   "cell_type": "code",
   "execution_count": 50,
   "id": "b7d012f5",
   "metadata": {},
   "outputs": [
    {
     "data": {
      "text/plain": [
       "<matplotlib.legend.Legend at 0x17e415520>"
      ]
     },
     "execution_count": 50,
     "metadata": {},
     "output_type": "execute_result"
    },
    {
     "data": {
      "image/png": "[encoded data removed]",
      "text/plain": [
       "<Figure size 640x480 with 1 Axes>"
      ]
     },
     "metadata": {},
     "output_type": "display_data"
    }
   ],
   "source": [
    "sns.kdeplot(xtrain[\"ratings\"], label=\"original\")\n",
    "sns.kdeplot(xtrain[\"ratings\"].fillna(xtrain.ratings.mean()), label=\"imputed\")\n",
    "plt.legend()"
   ]
  },
  {
   "cell_type": "code",
   "execution_count": 51,
   "id": "cbb89313",
   "metadata": {},
   "outputs": [
    {
     "data": {
      "text/plain": [
       "<matplotlib.legend.Legend at 0x17e0fdb50>"
      ]
     },
     "execution_count": 51,
     "metadata": {},
     "output_type": "execute_result"
    },
    {
     "data": {
      "image/png": "[encoded data removed]",
      "text/plain": [
       "<Figure size 640x480 with 1 Axes>"
      ]
     },
     "metadata": {},
     "output_type": "display_data"
    }
   ],
   "source": [
    "sns.kdeplot(xtrain[\"ratings\"], label=\"original\")\n",
    "sns.kdeplot(xtrain[\"ratings\"].fillna(rating_median), label=\"imputed\")\n",
    "plt.legend()"
   ]
  },
  {
   "cell_type": "markdown",
   "id": "5deb1ca5",
   "metadata": {},
   "source": [
    "medain imputation is good\n"
   ]
  },
  {
   "cell_type": "markdown",
   "id": "bb7e8eee",
   "metadata": {},
   "source": [
    "## Weather\n"
   ]
  },
  {
   "cell_type": "code",
   "execution_count": 52,
   "id": "6969b225",
   "metadata": {},
   "outputs": [
    {
     "data": {
      "text/plain": [
       "weather\n",
       "fog           6160\n",
       "stormy        6051\n",
       "cloudy        6033\n",
       "sandstorms    5958\n",
       "windy         5928\n",
       "sunny         5850\n",
       "NaN            421\n",
       "Name: count, dtype: int64"
      ]
     },
     "execution_count": 52,
     "metadata": {},
     "output_type": "execute_result"
    }
   ],
   "source": [
    "xtrain.weather.value_counts(dropna=False)"
   ]
  },
  {
   "cell_type": "markdown",
   "id": "f67ac46c",
   "metadata": {},
   "source": [
    "all categories are uniform ,\n",
    "\n",
    "if (421)nan are imputed with mode fog will dominate and current uniform distribution will change to fog dominated\n"
   ]
  },
  {
   "cell_type": "code",
   "execution_count": 53,
   "id": "d5ca6281",
   "metadata": {},
   "outputs": [
    {
     "data": {
      "text/plain": [
       "<Axes: xlabel='count', ylabel='weather'>"
      ]
     },
     "execution_count": 53,
     "metadata": {},
     "output_type": "execute_result"
    },
    {
     "data": {
      "image/png": "[encoded data removed]",
      "text/plain": [
       "<Figure size 640x480 with 1 Axes>"
      ]
     },
     "metadata": {},
     "output_type": "display_data"
    }
   ],
   "source": [
    "sns.countplot(xtrain[\"weather\"])"
   ]
  },
  {
   "cell_type": "code",
   "execution_count": null,
   "id": "a276de54",
   "metadata": {},
   "outputs": [
    {
     "data": {
      "text/html": [
       "<div>\n",
       "<style scoped>\n",
       "    .dataframe tbody tr th:only-of-type {\n",
       "        vertical-align: middle;\n",
       "    }\n",
       "\n",
       "    .dataframe tbody tr th {\n",
       "        vertical-align: top;\n",
       "    }\n",
       "\n",
       "    .dataframe thead th {\n",
       "        text-align: right;\n",
       "    }\n",
       "</style>\n",
       "<table border=\"1\" class=\"dataframe\">\n",
       "  <thead>\n",
       "    <tr style=\"text-align: right;\">\n",
       "      <th></th>\n",
       "      <th>weather</th>\n",
       "      <th>missingindicator_x0</th>\n",
       "    </tr>\n",
       "  </thead>\n",
       "  <tbody>\n",
       "    <tr>\n",
       "      <th>11047</th>\n",
       "      <td>windy</td>\n",
       "      <td>False</td>\n",
       "    </tr>\n",
       "    <tr>\n",
       "      <th>15692</th>\n",
       "      <td>windy</td>\n",
       "      <td>False</td>\n",
       "    </tr>\n",
       "    <tr>\n",
       "      <th>14499</th>\n",
       "      <td>stormy</td>\n",
       "      <td>False</td>\n",
       "    </tr>\n",
       "    <tr>\n",
       "      <th>29258</th>\n",
       "      <td>windy</td>\n",
       "      <td>False</td>\n",
       "    </tr>\n",
       "    <tr>\n",
       "      <th>22554</th>\n",
       "      <td>sandstorms</td>\n",
       "      <td>False</td>\n",
       "    </tr>\n",
       "    <tr>\n",
       "      <th>...</th>\n",
       "      <td>...</td>\n",
       "      <td>...</td>\n",
       "    </tr>\n",
       "    <tr>\n",
       "      <th>36378</th>\n",
       "      <td>NaN</td>\n",
       "      <td>False</td>\n",
       "    </tr>\n",
       "    <tr>\n",
       "      <th>36386</th>\n",
       "      <td>NaN</td>\n",
       "      <td>False</td>\n",
       "    </tr>\n",
       "    <tr>\n",
       "      <th>36387</th>\n",
       "      <td>NaN</td>\n",
       "      <td>False</td>\n",
       "    </tr>\n",
       "    <tr>\n",
       "      <th>36388</th>\n",
       "      <td>NaN</td>\n",
       "      <td>False</td>\n",
       "    </tr>\n",
       "    <tr>\n",
       "      <th>36397</th>\n",
       "      <td>NaN</td>\n",
       "      <td>False</td>\n",
       "    </tr>\n",
       "  </tbody>\n",
       "</table>\n",
       "<p>43730 rows × 2 columns</p>\n",
       "</div>"
      ],
      "text/plain": [
       "          weather missingindicator_x0\n",
       "11047       windy               False\n",
       "15692       windy               False\n",
       "14499      stormy               False\n",
       "29258       windy               False\n",
       "22554  sandstorms               False\n",
       "...           ...                 ...\n",
       "36378         NaN               False\n",
       "36386         NaN               False\n",
       "36387         NaN               False\n",
       "36388         NaN               False\n",
       "36397         NaN               False\n",
       "\n",
       "[43730 rows x 2 columns]"
      ]
     },
     "execution_count": 54,
     "metadata": {},
     "output_type": "execute_result"
    }
   ],
   "source": [
    "# better to use a missing indicator with weather column imputed to represent missingness\n",
    "\n",
    "from sklearn.impute import MissingIndicator\n",
    "\n",
    "missing_weather = MissingIndicator()\n",
    "missing_weather.set_output(transform=\"pandas\")\n",
    "pd.concat(\n",
    "    [\n",
    "        xtrain[\"weather\"],\n",
    "        missing_weather.fit_transform(xtrain[\"weather\"].values.reshape(-1, 1)),\n",
    "    ],\n",
    "    axis=1,\n",
    ")"
   ]
  },
  {
   "cell_type": "code",
   "execution_count": 55,
   "id": "81621cc9",
   "metadata": {},
   "outputs": [
    {
     "data": {
      "text/html": [
       "<div>\n",
       "<style scoped>\n",
       "    .dataframe tbody tr th:only-of-type {\n",
       "        vertical-align: middle;\n",
       "    }\n",
       "\n",
       "    .dataframe tbody tr th {\n",
       "        vertical-align: top;\n",
       "    }\n",
       "\n",
       "    .dataframe thead th {\n",
       "        text-align: right;\n",
       "    }\n",
       "</style>\n",
       "<table border=\"1\" class=\"dataframe\">\n",
       "  <thead>\n",
       "    <tr style=\"text-align: right;\">\n",
       "      <th></th>\n",
       "      <th>age</th>\n",
       "      <th>ratings</th>\n",
       "      <th>weather</th>\n",
       "      <th>traffic</th>\n",
       "      <th>vehicle_condition</th>\n",
       "      <th>type_of_order</th>\n",
       "      <th>type_of_vehicle</th>\n",
       "      <th>multiple_deliveries</th>\n",
       "      <th>festival</th>\n",
       "      <th>city_type</th>\n",
       "      <th>city_name</th>\n",
       "      <th>order_month</th>\n",
       "      <th>order_day_of_week</th>\n",
       "      <th>is_weekend</th>\n",
       "      <th>pickup_time_minutes</th>\n",
       "      <th>order_time_of_day</th>\n",
       "      <th>distance</th>\n",
       "      <th>distance_type</th>\n",
       "    </tr>\n",
       "  </thead>\n",
       "  <tbody>\n",
       "    <tr>\n",
       "      <th>11047</th>\n",
       "      <td>26.0</td>\n",
       "      <td>4.7</td>\n",
       "      <td>windy</td>\n",
       "      <td>jam</td>\n",
       "      <td>2</td>\n",
       "      <td>snack</td>\n",
       "      <td>electric_scooter</td>\n",
       "      <td>1.0</td>\n",
       "      <td>no</td>\n",
       "      <td>metropolitian</td>\n",
       "      <td>MUM</td>\n",
       "      <td>3</td>\n",
       "      <td>wednesday</td>\n",
       "      <td>0</td>\n",
       "      <td>10.0</td>\n",
       "      <td>evening</td>\n",
       "      <td>9.177684</td>\n",
       "      <td>medium</td>\n",
       "    </tr>\n",
       "    <tr>\n",
       "      <th>15692</th>\n",
       "      <td>21.0</td>\n",
       "      <td>4.9</td>\n",
       "      <td>windy</td>\n",
       "      <td>medium</td>\n",
       "      <td>2</td>\n",
       "      <td>drinks</td>\n",
       "      <td>motorcycle</td>\n",
       "      <td>1.0</td>\n",
       "      <td>no</td>\n",
       "      <td>metropolitian</td>\n",
       "      <td>SUR</td>\n",
       "      <td>3</td>\n",
       "      <td>thursday</td>\n",
       "      <td>0</td>\n",
       "      <td>5.0</td>\n",
       "      <td>afternoon</td>\n",
       "      <td>6.081536</td>\n",
       "      <td>medium</td>\n",
       "    </tr>\n",
       "    <tr>\n",
       "      <th>14499</th>\n",
       "      <td>NaN</td>\n",
       "      <td>NaN</td>\n",
       "      <td>stormy</td>\n",
       "      <td>low</td>\n",
       "      <td>2</td>\n",
       "      <td>meal</td>\n",
       "      <td>scooter</td>\n",
       "      <td>1.0</td>\n",
       "      <td>no</td>\n",
       "      <td>metropolitian</td>\n",
       "      <td>MYS</td>\n",
       "      <td>3</td>\n",
       "      <td>saturday</td>\n",
       "      <td>1</td>\n",
       "      <td>NaN</td>\n",
       "      <td>NaN</td>\n",
       "      <td>1.554563</td>\n",
       "      <td>short</td>\n",
       "    </tr>\n",
       "    <tr>\n",
       "      <th>29258</th>\n",
       "      <td>32.0</td>\n",
       "      <td>4.7</td>\n",
       "      <td>windy</td>\n",
       "      <td>medium</td>\n",
       "      <td>0</td>\n",
       "      <td>buffet</td>\n",
       "      <td>motorcycle</td>\n",
       "      <td>1.0</td>\n",
       "      <td>no</td>\n",
       "      <td>metropolitian</td>\n",
       "      <td>JAP</td>\n",
       "      <td>4</td>\n",
       "      <td>monday</td>\n",
       "      <td>0</td>\n",
       "      <td>15.0</td>\n",
       "      <td>evening</td>\n",
       "      <td>20.852271</td>\n",
       "      <td>very_long</td>\n",
       "    </tr>\n",
       "    <tr>\n",
       "      <th>22554</th>\n",
       "      <td>34.0</td>\n",
       "      <td>4.9</td>\n",
       "      <td>sandstorms</td>\n",
       "      <td>jam</td>\n",
       "      <td>1</td>\n",
       "      <td>meal</td>\n",
       "      <td>scooter</td>\n",
       "      <td>0.0</td>\n",
       "      <td>no</td>\n",
       "      <td>urban</td>\n",
       "      <td>RANCHI</td>\n",
       "      <td>3</td>\n",
       "      <td>wednesday</td>\n",
       "      <td>0</td>\n",
       "      <td>5.0</td>\n",
       "      <td>night</td>\n",
       "      <td>9.056096</td>\n",
       "      <td>medium</td>\n",
       "    </tr>\n",
       "  </tbody>\n",
       "</table>\n",
       "</div>"
      ],
      "text/plain": [
       "        age  ratings     weather traffic  vehicle_condition type_of_order  \\\n",
       "11047  26.0      4.7       windy     jam                  2         snack   \n",
       "15692  21.0      4.9       windy  medium                  2        drinks   \n",
       "14499   NaN      NaN      stormy     low                  2          meal   \n",
       "29258  32.0      4.7       windy  medium                  0        buffet   \n",
       "22554  34.0      4.9  sandstorms     jam                  1          meal   \n",
       "\n",
       "        type_of_vehicle  multiple_deliveries festival      city_type  \\\n",
       "11047  electric_scooter                  1.0       no  metropolitian   \n",
       "15692        motorcycle                  1.0       no  metropolitian   \n",
       "14499           scooter                  1.0       no  metropolitian   \n",
       "29258        motorcycle                  1.0       no  metropolitian   \n",
       "22554           scooter                  0.0       no          urban   \n",
       "\n",
       "      city_name  order_month order_day_of_week  is_weekend  \\\n",
       "11047       MUM            3         wednesday           0   \n",
       "15692       SUR            3          thursday           0   \n",
       "14499       MYS            3          saturday           1   \n",
       "29258       JAP            4            monday           0   \n",
       "22554    RANCHI            3         wednesday           0   \n",
       "\n",
       "       pickup_time_minutes order_time_of_day   distance distance_type  \n",
       "11047                 10.0           evening   9.177684        medium  \n",
       "15692                  5.0         afternoon   6.081536        medium  \n",
       "14499                  NaN               NaN   1.554563         short  \n",
       "29258                 15.0           evening  20.852271     very_long  \n",
       "22554                  5.0             night   9.056096        medium  "
      ]
     },
     "execution_count": 55,
     "metadata": {},
     "output_type": "execute_result"
    }
   ],
   "source": [
    "xtrain.head()"
   ]
  },
  {
   "cell_type": "code",
   "execution_count": 56,
   "id": "a95e6187",
   "metadata": {},
   "outputs": [
    {
     "data": {
      "text/plain": [
       "['age',\n",
       " 'ratings',\n",
       " 'weather',\n",
       " 'traffic',\n",
       " 'vehicle_condition',\n",
       " 'type_of_order',\n",
       " 'type_of_vehicle',\n",
       " 'multiple_deliveries',\n",
       " 'festival',\n",
       " 'city_type',\n",
       " 'city_name',\n",
       " 'order_month',\n",
       " 'order_day_of_week',\n",
       " 'is_weekend',\n",
       " 'pickup_time_minutes',\n",
       " 'order_time_of_day',\n",
       " 'distance',\n",
       " 'distance_type']"
      ]
     },
     "execution_count": 56,
     "metadata": {},
     "output_type": "execute_result"
    }
   ],
   "source": [
    "xtrain.columns.tolist()"
   ]
  },
  {
   "cell_type": "markdown",
   "id": "b4d60a3c",
   "metadata": {},
   "source": [
    "weather is important feature so\n",
    "\n",
    "cant drop and impute easily so add a missing indicator along with imputataion\n"
   ]
  },
  {
   "cell_type": "markdown",
   "id": "30918d88",
   "metadata": {},
   "source": [
    "## Traffic\n"
   ]
  },
  {
   "cell_type": "code",
   "execution_count": 57,
   "id": "592d48db",
   "metadata": {},
   "outputs": [
    {
     "data": {
      "text/plain": [
       "traffic\n",
       "low       12323\n",
       "jam       11320\n",
       "medium     8773\n",
       "high       3578\n",
       "Name: count, dtype: int64"
      ]
     },
     "execution_count": 57,
     "metadata": {},
     "output_type": "execute_result"
    }
   ],
   "source": [
    "xtrain[\"traffic\"].value_counts()"
   ]
  },
  {
   "cell_type": "markdown",
   "id": "37156dad",
   "metadata": {},
   "source": [
    "similar uniform and large difference distribution\n",
    "\n",
    "so cant easily impute thus apply missing indicator\n"
   ]
  },
  {
   "cell_type": "code",
   "execution_count": 58,
   "id": "6d59d315",
   "metadata": {},
   "outputs": [
    {
     "data": {
      "text/plain": [
       "<Axes: xlabel='count', ylabel='traffic'>"
      ]
     },
     "execution_count": 58,
     "metadata": {},
     "output_type": "execute_result"
    },
    {
     "data": {
      "image/png": "[encoded data removed]",
      "text/plain": [
       "<Figure size 640x480 with 1 Axes>"
      ]
     },
     "metadata": {},
     "output_type": "display_data"
    }
   ],
   "source": [
    "sns.countplot(xtrain.traffic)"
   ]
  },
  {
   "cell_type": "markdown",
   "id": "8c5fc7e8",
   "metadata": {},
   "source": [
    "## Multiple Delivery\n"
   ]
  },
  {
   "cell_type": "code",
   "execution_count": 59,
   "id": "d17192d7",
   "metadata": {},
   "outputs": [
    {
     "data": {
      "text/plain": [
       "multiple_deliveries\n",
       "1.0    22487\n",
       "0.0    11252\n",
       "2.0     1599\n",
       "NaN      795\n",
       "3.0      268\n",
       "Name: count, dtype: int64"
      ]
     },
     "execution_count": 59,
     "metadata": {},
     "output_type": "execute_result"
    }
   ],
   "source": [
    "xtrain[\"multiple_deliveries\"].value_counts(dropna=False)"
   ]
  },
  {
   "cell_type": "markdown",
   "id": "f4f3284b",
   "metadata": {},
   "source": [
    "1 is the dominating category here\n",
    "\n",
    "so can impute with 1\n"
   ]
  },
  {
   "cell_type": "code",
   "execution_count": 62,
   "id": "b8775596",
   "metadata": {},
   "outputs": [
    {
     "data": {
      "text/plain": [
       "<Axes: xlabel='count', ylabel='multiple_deliveries'>"
      ]
     },
     "execution_count": 62,
     "metadata": {},
     "output_type": "execute_result"
    },
    {
     "data": {
      "image/png": "[encoded data removed]",
      "text/plain": [
       "<Figure size 640x480 with 1 Axes>"
      ]
     },
     "metadata": {},
     "output_type": "display_data"
    }
   ],
   "source": [
    "sns.countplot(xtrain[\"multiple_deliveries\"].apply(str))"
   ]
  },
  {
   "cell_type": "code",
   "execution_count": null,
   "id": "672fa5b0",
   "metadata": {},
   "outputs": [
    {
     "data": {
      "text/plain": [
       "1.0"
      ]
     },
     "execution_count": 65,
     "metadata": {},
     "output_type": "execute_result"
    }
   ],
   "source": [
    "multi_delivery_mode = xtrain.multiple_deliveries.mode()[0]\n",
    "multi_delivery_mode"
   ]
  },
  {
   "cell_type": "code",
   "execution_count": 66,
   "id": "74c0be1a",
   "metadata": {},
   "outputs": [
    {
     "data": {
      "text/plain": [
       "<Axes: xlabel='count', ylabel='multiple_deliveries'>"
      ]
     },
     "execution_count": 66,
     "metadata": {},
     "output_type": "execute_result"
    },
    {
     "data": {
      "image/png": "[encoded data removed]",
      "text/plain": [
       "<Figure size 640x480 with 1 Axes>"
      ]
     },
     "metadata": {},
     "output_type": "display_data"
    }
   ],
   "source": [
    "sns.countplot(xtrain[\"multiple_deliveries\"].fillna(multi_delivery_mode).apply(str))"
   ]
  },
  {
   "cell_type": "markdown",
   "id": "a610e890",
   "metadata": {},
   "source": [
    "## Festival\n"
   ]
  },
  {
   "cell_type": "code",
   "execution_count": 68,
   "id": "f53d40ea",
   "metadata": {},
   "outputs": [
    {
     "data": {
      "text/plain": [
       "festival\n",
       "no     35474\n",
       "yes      739\n",
       "NaN      188\n",
       "Name: count, dtype: int64"
      ]
     },
     "execution_count": 68,
     "metadata": {},
     "output_type": "execute_result"
    }
   ],
   "source": [
    "xtrain[\"festival\"].value_counts(dropna=False)"
   ]
  },
  {
   "cell_type": "code",
   "execution_count": 70,
   "id": "6b57c626",
   "metadata": {},
   "outputs": [
    {
     "data": {
      "text/plain": [
       "<Axes: xlabel='count', ylabel='festival'>"
      ]
     },
     "execution_count": 70,
     "metadata": {},
     "output_type": "execute_result"
    },
    {
     "data": {
      "image/png": "[encoded data removed]",
      "text/plain": [
       "<Figure size 640x480 with 1 Axes>"
      ]
     },
     "metadata": {},
     "output_type": "display_data"
    }
   ],
   "source": [
    "sns.countplot(xtrain[\"festival\"])"
   ]
  },
  {
   "cell_type": "code",
   "execution_count": 71,
   "id": "f6791486",
   "metadata": {},
   "outputs": [
    {
     "data": {
      "text/plain": [
       "<Axes: xlabel='count', ylabel='festival'>"
      ]
     },
     "execution_count": 71,
     "metadata": {},
     "output_type": "execute_result"
    },
    {
     "data": {
      "image/png": "[encoded data removed]",
      "text/plain": [
       "<Figure size 640x480 with 1 Axes>"
      ]
     },
     "metadata": {},
     "output_type": "display_data"
    }
   ],
   "source": [
    "sns.countplot(xtrain[\"festival\"].fillna(xtrain.festival.mode()[0]))"
   ]
  },
  {
   "cell_type": "markdown",
   "id": "5087121a",
   "metadata": {},
   "source": [
    "yes is clearly the dominating category so\n",
    "\n",
    "impute mode\n"
   ]
  },
  {
   "cell_type": "code",
   "execution_count": 73,
   "id": "3fa5e674",
   "metadata": {},
   "outputs": [
    {
     "data": {
      "text/plain": [
       "'no'"
      ]
     },
     "execution_count": 73,
     "metadata": {},
     "output_type": "execute_result"
    }
   ],
   "source": [
    "festival_mode=xtrain[\"festival\"].mode()[0]\n",
    "festival_mode"
   ]
  },
  {
   "cell_type": "markdown",
   "id": "00f78df8",
   "metadata": {},
   "source": [
    "## City type"
   ]
  },
  {
   "cell_type": "code",
   "execution_count": null,
   "id": "9b15676f",
   "metadata": {},
   "outputs": [],
   "source": []
  }
 ],
 "metadata": {
  "kernelspec": {
   "display_name": "base",
   "language": "python",
   "name": "python3"
  },
  "language_info": {
   "codemirror_mode": {
    "name": "ipython",
    "version": 3
   },
   "file_extension": ".py",
   "mimetype": "text/x-python",
   "name": "python",
   "nbconvert_exporter": "python",
   "pygments_lexer": "ipython3",
   "version": "3.12.7"
  }
 },
 "nbformat": 4,
 "nbformat_minor": 5
}
